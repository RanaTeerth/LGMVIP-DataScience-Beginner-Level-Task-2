{
 "cells": [
  {
   "cell_type": "markdown",
   "id": "cdeb7f9e",
   "metadata": {},
   "source": [
    "# Name : Rana Teerth Kamleshkumar\n",
    "\n",
    "# Data Science Intern at Let's Grow More\n",
    "\n",
    "# Beginner Level Task \n",
    "\n",
    "# Task No. 2 : Stock Market Prediction And Forecasting Using Stacked LSTM"
   ]
  },
  {
   "cell_type": "markdown",
   "id": "d23df647",
   "metadata": {},
   "source": [
    "## Step-1 : Importing required important libraries and loading dataset"
   ]
  },
  {
   "cell_type": "code",
   "execution_count": 1,
   "id": "5f0fc3c5",
   "metadata": {},
   "outputs": [],
   "source": [
    "import pandas as pd\n",
    "import matplotlib.pyplot as plt\n",
    "import numpy as np"
   ]
  },
  {
   "cell_type": "code",
   "execution_count": 2,
   "id": "824661f6",
   "metadata": {},
   "outputs": [
    {
     "data": {
      "text/html": [
       "<div>\n",
       "<style scoped>\n",
       "    .dataframe tbody tr th:only-of-type {\n",
       "        vertical-align: middle;\n",
       "    }\n",
       "\n",
       "    .dataframe tbody tr th {\n",
       "        vertical-align: top;\n",
       "    }\n",
       "\n",
       "    .dataframe thead th {\n",
       "        text-align: right;\n",
       "    }\n",
       "</style>\n",
       "<table border=\"1\" class=\"dataframe\">\n",
       "  <thead>\n",
       "    <tr style=\"text-align: right;\">\n",
       "      <th></th>\n",
       "      <th>Date</th>\n",
       "      <th>Open</th>\n",
       "      <th>High</th>\n",
       "      <th>Low</th>\n",
       "      <th>Last</th>\n",
       "      <th>Close</th>\n",
       "      <th>Total Trade Quantity</th>\n",
       "      <th>Turnover (Lacs)</th>\n",
       "    </tr>\n",
       "  </thead>\n",
       "  <tbody>\n",
       "    <tr>\n",
       "      <th>0</th>\n",
       "      <td>2018-09-28</td>\n",
       "      <td>234.05</td>\n",
       "      <td>235.95</td>\n",
       "      <td>230.20</td>\n",
       "      <td>233.50</td>\n",
       "      <td>233.75</td>\n",
       "      <td>3069914</td>\n",
       "      <td>7162.35</td>\n",
       "    </tr>\n",
       "    <tr>\n",
       "      <th>1</th>\n",
       "      <td>2018-09-27</td>\n",
       "      <td>234.55</td>\n",
       "      <td>236.80</td>\n",
       "      <td>231.10</td>\n",
       "      <td>233.80</td>\n",
       "      <td>233.25</td>\n",
       "      <td>5082859</td>\n",
       "      <td>11859.95</td>\n",
       "    </tr>\n",
       "    <tr>\n",
       "      <th>2</th>\n",
       "      <td>2018-09-26</td>\n",
       "      <td>240.00</td>\n",
       "      <td>240.00</td>\n",
       "      <td>232.50</td>\n",
       "      <td>235.00</td>\n",
       "      <td>234.25</td>\n",
       "      <td>2240909</td>\n",
       "      <td>5248.60</td>\n",
       "    </tr>\n",
       "    <tr>\n",
       "      <th>3</th>\n",
       "      <td>2018-09-25</td>\n",
       "      <td>233.30</td>\n",
       "      <td>236.75</td>\n",
       "      <td>232.00</td>\n",
       "      <td>236.25</td>\n",
       "      <td>236.10</td>\n",
       "      <td>2349368</td>\n",
       "      <td>5503.90</td>\n",
       "    </tr>\n",
       "    <tr>\n",
       "      <th>4</th>\n",
       "      <td>2018-09-24</td>\n",
       "      <td>233.55</td>\n",
       "      <td>239.20</td>\n",
       "      <td>230.75</td>\n",
       "      <td>234.00</td>\n",
       "      <td>233.30</td>\n",
       "      <td>3423509</td>\n",
       "      <td>7999.55</td>\n",
       "    </tr>\n",
       "    <tr>\n",
       "      <th>...</th>\n",
       "      <td>...</td>\n",
       "      <td>...</td>\n",
       "      <td>...</td>\n",
       "      <td>...</td>\n",
       "      <td>...</td>\n",
       "      <td>...</td>\n",
       "      <td>...</td>\n",
       "      <td>...</td>\n",
       "    </tr>\n",
       "    <tr>\n",
       "      <th>2030</th>\n",
       "      <td>2010-07-27</td>\n",
       "      <td>117.60</td>\n",
       "      <td>119.50</td>\n",
       "      <td>112.00</td>\n",
       "      <td>118.80</td>\n",
       "      <td>118.65</td>\n",
       "      <td>586100</td>\n",
       "      <td>694.98</td>\n",
       "    </tr>\n",
       "    <tr>\n",
       "      <th>2031</th>\n",
       "      <td>2010-07-26</td>\n",
       "      <td>120.10</td>\n",
       "      <td>121.00</td>\n",
       "      <td>117.10</td>\n",
       "      <td>117.10</td>\n",
       "      <td>117.60</td>\n",
       "      <td>658440</td>\n",
       "      <td>780.01</td>\n",
       "    </tr>\n",
       "    <tr>\n",
       "      <th>2032</th>\n",
       "      <td>2010-07-23</td>\n",
       "      <td>121.80</td>\n",
       "      <td>121.95</td>\n",
       "      <td>120.25</td>\n",
       "      <td>120.35</td>\n",
       "      <td>120.65</td>\n",
       "      <td>281312</td>\n",
       "      <td>340.31</td>\n",
       "    </tr>\n",
       "    <tr>\n",
       "      <th>2033</th>\n",
       "      <td>2010-07-22</td>\n",
       "      <td>120.30</td>\n",
       "      <td>122.00</td>\n",
       "      <td>120.25</td>\n",
       "      <td>120.75</td>\n",
       "      <td>120.90</td>\n",
       "      <td>293312</td>\n",
       "      <td>355.17</td>\n",
       "    </tr>\n",
       "    <tr>\n",
       "      <th>2034</th>\n",
       "      <td>2010-07-21</td>\n",
       "      <td>122.10</td>\n",
       "      <td>123.00</td>\n",
       "      <td>121.05</td>\n",
       "      <td>121.10</td>\n",
       "      <td>121.55</td>\n",
       "      <td>658666</td>\n",
       "      <td>803.56</td>\n",
       "    </tr>\n",
       "  </tbody>\n",
       "</table>\n",
       "<p>2035 rows × 8 columns</p>\n",
       "</div>"
      ],
      "text/plain": [
       "            Date    Open    High     Low    Last   Close  \\\n",
       "0     2018-09-28  234.05  235.95  230.20  233.50  233.75   \n",
       "1     2018-09-27  234.55  236.80  231.10  233.80  233.25   \n",
       "2     2018-09-26  240.00  240.00  232.50  235.00  234.25   \n",
       "3     2018-09-25  233.30  236.75  232.00  236.25  236.10   \n",
       "4     2018-09-24  233.55  239.20  230.75  234.00  233.30   \n",
       "...          ...     ...     ...     ...     ...     ...   \n",
       "2030  2010-07-27  117.60  119.50  112.00  118.80  118.65   \n",
       "2031  2010-07-26  120.10  121.00  117.10  117.10  117.60   \n",
       "2032  2010-07-23  121.80  121.95  120.25  120.35  120.65   \n",
       "2033  2010-07-22  120.30  122.00  120.25  120.75  120.90   \n",
       "2034  2010-07-21  122.10  123.00  121.05  121.10  121.55   \n",
       "\n",
       "      Total Trade Quantity  Turnover (Lacs)  \n",
       "0                  3069914          7162.35  \n",
       "1                  5082859         11859.95  \n",
       "2                  2240909          5248.60  \n",
       "3                  2349368          5503.90  \n",
       "4                  3423509          7999.55  \n",
       "...                    ...              ...  \n",
       "2030                586100           694.98  \n",
       "2031                658440           780.01  \n",
       "2032                281312           340.31  \n",
       "2033                293312           355.17  \n",
       "2034                658666           803.56  \n",
       "\n",
       "[2035 rows x 8 columns]"
      ]
     },
     "execution_count": 2,
     "metadata": {},
     "output_type": "execute_result"
    }
   ],
   "source": [
    "# Loading dataset\n",
    "\n",
    "url = \"https://raw.githubusercontent.com/mwitiderrick/stockprice/master/NSE-TATAGLOBAL.csv\"\n",
    "tataglobal_df = pd.read_csv(url)\n",
    "tataglobal_df"
   ]
  },
  {
   "cell_type": "code",
   "execution_count": 3,
   "id": "abb6794f",
   "metadata": {},
   "outputs": [
    {
     "data": {
      "text/plain": [
       "(2035, 8)"
      ]
     },
     "execution_count": 3,
     "metadata": {},
     "output_type": "execute_result"
    }
   ],
   "source": [
    "tataglobal_df.shape\n"
   ]
  },
  {
   "cell_type": "code",
   "execution_count": 4,
   "id": "79ce61c3",
   "metadata": {},
   "outputs": [
    {
     "data": {
      "text/plain": [
       "Date                     object\n",
       "Open                    float64\n",
       "High                    float64\n",
       "Low                     float64\n",
       "Last                    float64\n",
       "Close                   float64\n",
       "Total Trade Quantity      int64\n",
       "Turnover (Lacs)         float64\n",
       "dtype: object"
      ]
     },
     "execution_count": 4,
     "metadata": {},
     "output_type": "execute_result"
    }
   ],
   "source": [
    "tataglobal_df.dtypes\n"
   ]
  },
  {
   "cell_type": "code",
   "execution_count": 5,
   "id": "ccbe2c66",
   "metadata": {},
   "outputs": [
    {
     "name": "stdout",
     "output_type": "stream",
     "text": [
      "<class 'pandas.core.frame.DataFrame'>\n",
      "RangeIndex: 2035 entries, 0 to 2034\n",
      "Data columns (total 8 columns):\n",
      " #   Column                Non-Null Count  Dtype  \n",
      "---  ------                --------------  -----  \n",
      " 0   Date                  2035 non-null   object \n",
      " 1   Open                  2035 non-null   float64\n",
      " 2   High                  2035 non-null   float64\n",
      " 3   Low                   2035 non-null   float64\n",
      " 4   Last                  2035 non-null   float64\n",
      " 5   Close                 2035 non-null   float64\n",
      " 6   Total Trade Quantity  2035 non-null   int64  \n",
      " 7   Turnover (Lacs)       2035 non-null   float64\n",
      "dtypes: float64(6), int64(1), object(1)\n",
      "memory usage: 127.3+ KB\n"
     ]
    }
   ],
   "source": [
    "tataglobal_df.info()\n"
   ]
  },
  {
   "cell_type": "code",
   "execution_count": 6,
   "id": "2f5e5b52",
   "metadata": {},
   "outputs": [
    {
     "data": {
      "text/html": [
       "<div>\n",
       "<style scoped>\n",
       "    .dataframe tbody tr th:only-of-type {\n",
       "        vertical-align: middle;\n",
       "    }\n",
       "\n",
       "    .dataframe tbody tr th {\n",
       "        vertical-align: top;\n",
       "    }\n",
       "\n",
       "    .dataframe thead th {\n",
       "        text-align: right;\n",
       "    }\n",
       "</style>\n",
       "<table border=\"1\" class=\"dataframe\">\n",
       "  <thead>\n",
       "    <tr style=\"text-align: right;\">\n",
       "      <th></th>\n",
       "      <th>Open</th>\n",
       "      <th>High</th>\n",
       "      <th>Low</th>\n",
       "      <th>Last</th>\n",
       "      <th>Close</th>\n",
       "      <th>Total Trade Quantity</th>\n",
       "      <th>Turnover (Lacs)</th>\n",
       "    </tr>\n",
       "  </thead>\n",
       "  <tbody>\n",
       "    <tr>\n",
       "      <th>count</th>\n",
       "      <td>2035.000000</td>\n",
       "      <td>2035.000000</td>\n",
       "      <td>2035.000000</td>\n",
       "      <td>2035.000000</td>\n",
       "      <td>2035.00000</td>\n",
       "      <td>2.035000e+03</td>\n",
       "      <td>2035.000000</td>\n",
       "    </tr>\n",
       "    <tr>\n",
       "      <th>mean</th>\n",
       "      <td>149.713735</td>\n",
       "      <td>151.992826</td>\n",
       "      <td>147.293931</td>\n",
       "      <td>149.474251</td>\n",
       "      <td>149.45027</td>\n",
       "      <td>2.335681e+06</td>\n",
       "      <td>3899.980565</td>\n",
       "    </tr>\n",
       "    <tr>\n",
       "      <th>std</th>\n",
       "      <td>48.664509</td>\n",
       "      <td>49.413109</td>\n",
       "      <td>47.931958</td>\n",
       "      <td>48.732570</td>\n",
       "      <td>48.71204</td>\n",
       "      <td>2.091778e+06</td>\n",
       "      <td>4570.767877</td>\n",
       "    </tr>\n",
       "    <tr>\n",
       "      <th>min</th>\n",
       "      <td>81.100000</td>\n",
       "      <td>82.800000</td>\n",
       "      <td>80.000000</td>\n",
       "      <td>81.000000</td>\n",
       "      <td>80.95000</td>\n",
       "      <td>3.961000e+04</td>\n",
       "      <td>37.040000</td>\n",
       "    </tr>\n",
       "    <tr>\n",
       "      <th>25%</th>\n",
       "      <td>120.025000</td>\n",
       "      <td>122.100000</td>\n",
       "      <td>118.300000</td>\n",
       "      <td>120.075000</td>\n",
       "      <td>120.05000</td>\n",
       "      <td>1.146444e+06</td>\n",
       "      <td>1427.460000</td>\n",
       "    </tr>\n",
       "    <tr>\n",
       "      <th>50%</th>\n",
       "      <td>141.500000</td>\n",
       "      <td>143.400000</td>\n",
       "      <td>139.600000</td>\n",
       "      <td>141.100000</td>\n",
       "      <td>141.25000</td>\n",
       "      <td>1.783456e+06</td>\n",
       "      <td>2512.030000</td>\n",
       "    </tr>\n",
       "    <tr>\n",
       "      <th>75%</th>\n",
       "      <td>157.175000</td>\n",
       "      <td>159.400000</td>\n",
       "      <td>155.150000</td>\n",
       "      <td>156.925000</td>\n",
       "      <td>156.90000</td>\n",
       "      <td>2.813594e+06</td>\n",
       "      <td>4539.015000</td>\n",
       "    </tr>\n",
       "    <tr>\n",
       "      <th>max</th>\n",
       "      <td>327.700000</td>\n",
       "      <td>328.750000</td>\n",
       "      <td>321.650000</td>\n",
       "      <td>325.950000</td>\n",
       "      <td>325.75000</td>\n",
       "      <td>2.919102e+07</td>\n",
       "      <td>55755.080000</td>\n",
       "    </tr>\n",
       "  </tbody>\n",
       "</table>\n",
       "</div>"
      ],
      "text/plain": [
       "              Open         High          Low         Last       Close  \\\n",
       "count  2035.000000  2035.000000  2035.000000  2035.000000  2035.00000   \n",
       "mean    149.713735   151.992826   147.293931   149.474251   149.45027   \n",
       "std      48.664509    49.413109    47.931958    48.732570    48.71204   \n",
       "min      81.100000    82.800000    80.000000    81.000000    80.95000   \n",
       "25%     120.025000   122.100000   118.300000   120.075000   120.05000   \n",
       "50%     141.500000   143.400000   139.600000   141.100000   141.25000   \n",
       "75%     157.175000   159.400000   155.150000   156.925000   156.90000   \n",
       "max     327.700000   328.750000   321.650000   325.950000   325.75000   \n",
       "\n",
       "       Total Trade Quantity  Turnover (Lacs)  \n",
       "count          2.035000e+03      2035.000000  \n",
       "mean           2.335681e+06      3899.980565  \n",
       "std            2.091778e+06      4570.767877  \n",
       "min            3.961000e+04        37.040000  \n",
       "25%            1.146444e+06      1427.460000  \n",
       "50%            1.783456e+06      2512.030000  \n",
       "75%            2.813594e+06      4539.015000  \n",
       "max            2.919102e+07     55755.080000  "
      ]
     },
     "execution_count": 6,
     "metadata": {},
     "output_type": "execute_result"
    }
   ],
   "source": [
    "tataglobal_df.describe()\n"
   ]
  },
  {
   "cell_type": "code",
   "execution_count": 7,
   "id": "f94dc117",
   "metadata": {},
   "outputs": [
    {
     "data": {
      "text/plain": [
       "Date                    0\n",
       "Open                    0\n",
       "High                    0\n",
       "Low                     0\n",
       "Last                    0\n",
       "Close                   0\n",
       "Total Trade Quantity    0\n",
       "Turnover (Lacs)         0\n",
       "dtype: int64"
      ]
     },
     "execution_count": 7,
     "metadata": {},
     "output_type": "execute_result"
    }
   ],
   "source": [
    "tataglobal_df.isna().sum()\n"
   ]
  },
  {
   "cell_type": "code",
   "execution_count": 8,
   "id": "9edbfb49",
   "metadata": {},
   "outputs": [
    {
     "data": {
      "text/html": [
       "<div>\n",
       "<style scoped>\n",
       "    .dataframe tbody tr th:only-of-type {\n",
       "        vertical-align: middle;\n",
       "    }\n",
       "\n",
       "    .dataframe tbody tr th {\n",
       "        vertical-align: top;\n",
       "    }\n",
       "\n",
       "    .dataframe thead th {\n",
       "        text-align: right;\n",
       "    }\n",
       "</style>\n",
       "<table border=\"1\" class=\"dataframe\">\n",
       "  <thead>\n",
       "    <tr style=\"text-align: right;\">\n",
       "      <th></th>\n",
       "      <th>Date</th>\n",
       "      <th>Open</th>\n",
       "      <th>High</th>\n",
       "      <th>Low</th>\n",
       "      <th>Last</th>\n",
       "      <th>Close</th>\n",
       "      <th>Total Trade Quantity</th>\n",
       "      <th>Turnover (Lacs)</th>\n",
       "    </tr>\n",
       "  </thead>\n",
       "  <tbody>\n",
       "    <tr>\n",
       "      <th>0</th>\n",
       "      <td>2018-09-28</td>\n",
       "      <td>234.05</td>\n",
       "      <td>235.95</td>\n",
       "      <td>230.20</td>\n",
       "      <td>233.50</td>\n",
       "      <td>233.75</td>\n",
       "      <td>3069914</td>\n",
       "      <td>7162.35</td>\n",
       "    </tr>\n",
       "    <tr>\n",
       "      <th>1</th>\n",
       "      <td>2018-09-27</td>\n",
       "      <td>234.55</td>\n",
       "      <td>236.80</td>\n",
       "      <td>231.10</td>\n",
       "      <td>233.80</td>\n",
       "      <td>233.25</td>\n",
       "      <td>5082859</td>\n",
       "      <td>11859.95</td>\n",
       "    </tr>\n",
       "    <tr>\n",
       "      <th>2</th>\n",
       "      <td>2018-09-26</td>\n",
       "      <td>240.00</td>\n",
       "      <td>240.00</td>\n",
       "      <td>232.50</td>\n",
       "      <td>235.00</td>\n",
       "      <td>234.25</td>\n",
       "      <td>2240909</td>\n",
       "      <td>5248.60</td>\n",
       "    </tr>\n",
       "    <tr>\n",
       "      <th>3</th>\n",
       "      <td>2018-09-25</td>\n",
       "      <td>233.30</td>\n",
       "      <td>236.75</td>\n",
       "      <td>232.00</td>\n",
       "      <td>236.25</td>\n",
       "      <td>236.10</td>\n",
       "      <td>2349368</td>\n",
       "      <td>5503.90</td>\n",
       "    </tr>\n",
       "    <tr>\n",
       "      <th>4</th>\n",
       "      <td>2018-09-24</td>\n",
       "      <td>233.55</td>\n",
       "      <td>239.20</td>\n",
       "      <td>230.75</td>\n",
       "      <td>234.00</td>\n",
       "      <td>233.30</td>\n",
       "      <td>3423509</td>\n",
       "      <td>7999.55</td>\n",
       "    </tr>\n",
       "  </tbody>\n",
       "</table>\n",
       "</div>"
      ],
      "text/plain": [
       "         Date    Open    High     Low    Last   Close  Total Trade Quantity  \\\n",
       "0  2018-09-28  234.05  235.95  230.20  233.50  233.75               3069914   \n",
       "1  2018-09-27  234.55  236.80  231.10  233.80  233.25               5082859   \n",
       "2  2018-09-26  240.00  240.00  232.50  235.00  234.25               2240909   \n",
       "3  2018-09-25  233.30  236.75  232.00  236.25  236.10               2349368   \n",
       "4  2018-09-24  233.55  239.20  230.75  234.00  233.30               3423509   \n",
       "\n",
       "   Turnover (Lacs)  \n",
       "0          7162.35  \n",
       "1         11859.95  \n",
       "2          5248.60  \n",
       "3          5503.90  \n",
       "4          7999.55  "
      ]
     },
     "execution_count": 8,
     "metadata": {},
     "output_type": "execute_result"
    }
   ],
   "source": [
    "tataglobal_df.head()\n"
   ]
  },
  {
   "cell_type": "code",
   "execution_count": 9,
   "id": "82845c5b",
   "metadata": {},
   "outputs": [
    {
     "data": {
      "image/png": "[encoded data removed]",
      "text/plain": [
       "<Figure size 640x480 with 1 Axes>"
      ]
     },
     "metadata": {},
     "output_type": "display_data"
    }
   ],
   "source": [
    "tataglobal_df.Close.hist();\n"
   ]
  },
  {
   "cell_type": "markdown",
   "id": "c26a41f5",
   "metadata": {},
   "source": [
    "# Parsing Dates\n"
   ]
  },
  {
   "cell_type": "code",
   "execution_count": 10,
   "id": "7619cd0d",
   "metadata": {},
   "outputs": [
    {
     "data": {
      "text/html": [
       "<div>\n",
       "<style scoped>\n",
       "    .dataframe tbody tr th:only-of-type {\n",
       "        vertical-align: middle;\n",
       "    }\n",
       "\n",
       "    .dataframe tbody tr th {\n",
       "        vertical-align: top;\n",
       "    }\n",
       "\n",
       "    .dataframe thead th {\n",
       "        text-align: right;\n",
       "    }\n",
       "</style>\n",
       "<table border=\"1\" class=\"dataframe\">\n",
       "  <thead>\n",
       "    <tr style=\"text-align: right;\">\n",
       "      <th></th>\n",
       "      <th>Date</th>\n",
       "      <th>Open</th>\n",
       "      <th>High</th>\n",
       "      <th>Low</th>\n",
       "      <th>Last</th>\n",
       "      <th>Close</th>\n",
       "      <th>Total Trade Quantity</th>\n",
       "      <th>Turnover (Lacs)</th>\n",
       "    </tr>\n",
       "  </thead>\n",
       "  <tbody>\n",
       "    <tr>\n",
       "      <th>0</th>\n",
       "      <td>2018-09-28</td>\n",
       "      <td>234.05</td>\n",
       "      <td>235.95</td>\n",
       "      <td>230.20</td>\n",
       "      <td>233.50</td>\n",
       "      <td>233.75</td>\n",
       "      <td>3069914</td>\n",
       "      <td>7162.35</td>\n",
       "    </tr>\n",
       "    <tr>\n",
       "      <th>1</th>\n",
       "      <td>2018-09-27</td>\n",
       "      <td>234.55</td>\n",
       "      <td>236.80</td>\n",
       "      <td>231.10</td>\n",
       "      <td>233.80</td>\n",
       "      <td>233.25</td>\n",
       "      <td>5082859</td>\n",
       "      <td>11859.95</td>\n",
       "    </tr>\n",
       "    <tr>\n",
       "      <th>2</th>\n",
       "      <td>2018-09-26</td>\n",
       "      <td>240.00</td>\n",
       "      <td>240.00</td>\n",
       "      <td>232.50</td>\n",
       "      <td>235.00</td>\n",
       "      <td>234.25</td>\n",
       "      <td>2240909</td>\n",
       "      <td>5248.60</td>\n",
       "    </tr>\n",
       "    <tr>\n",
       "      <th>3</th>\n",
       "      <td>2018-09-25</td>\n",
       "      <td>233.30</td>\n",
       "      <td>236.75</td>\n",
       "      <td>232.00</td>\n",
       "      <td>236.25</td>\n",
       "      <td>236.10</td>\n",
       "      <td>2349368</td>\n",
       "      <td>5503.90</td>\n",
       "    </tr>\n",
       "    <tr>\n",
       "      <th>4</th>\n",
       "      <td>2018-09-24</td>\n",
       "      <td>233.55</td>\n",
       "      <td>239.20</td>\n",
       "      <td>230.75</td>\n",
       "      <td>234.00</td>\n",
       "      <td>233.30</td>\n",
       "      <td>3423509</td>\n",
       "      <td>7999.55</td>\n",
       "    </tr>\n",
       "  </tbody>\n",
       "</table>\n",
       "</div>"
      ],
      "text/plain": [
       "        Date    Open    High     Low    Last   Close  Total Trade Quantity  \\\n",
       "0 2018-09-28  234.05  235.95  230.20  233.50  233.75               3069914   \n",
       "1 2018-09-27  234.55  236.80  231.10  233.80  233.25               5082859   \n",
       "2 2018-09-26  240.00  240.00  232.50  235.00  234.25               2240909   \n",
       "3 2018-09-25  233.30  236.75  232.00  236.25  236.10               2349368   \n",
       "4 2018-09-24  233.55  239.20  230.75  234.00  233.30               3423509   \n",
       "\n",
       "   Turnover (Lacs)  \n",
       "0          7162.35  \n",
       "1         11859.95  \n",
       "2          5248.60  \n",
       "3          5503.90  \n",
       "4          7999.55  "
      ]
     },
     "execution_count": 10,
     "metadata": {},
     "output_type": "execute_result"
    }
   ],
   "source": [
    "# Imoporting data again but this time parse dates\n",
    "\n",
    "df = pd.read_csv(url,parse_dates=[\"Date\"])\n",
    "df.head()"
   ]
  },
  {
   "cell_type": "code",
   "execution_count": 11,
   "id": "8f5b8ebe",
   "metadata": {},
   "outputs": [
    {
     "data": {
      "text/plain": [
       "dtype('<M8[ns]')"
      ]
     },
     "execution_count": 11,
     "metadata": {},
     "output_type": "execute_result"
    }
   ],
   "source": [
    "df.Date.dtype"
   ]
  },
  {
   "cell_type": "code",
   "execution_count": 12,
   "id": "cd9128f4",
   "metadata": {},
   "outputs": [
    {
     "data": {
      "text/plain": [
       "dtype('O')"
      ]
     },
     "execution_count": 12,
     "metadata": {},
     "output_type": "execute_result"
    }
   ],
   "source": [
    "tataglobal_df.Date.dtype\n"
   ]
  },
  {
   "cell_type": "code",
   "execution_count": 13,
   "id": "2262f88e",
   "metadata": {},
   "outputs": [
    {
     "data": {
      "text/plain": [
       "0    2018-09-28\n",
       "1    2018-09-27\n",
       "2    2018-09-26\n",
       "3    2018-09-25\n",
       "4    2018-09-24\n",
       "Name: Date, dtype: object"
      ]
     },
     "execution_count": 13,
     "metadata": {},
     "output_type": "execute_result"
    }
   ],
   "source": [
    "tataglobal_df.Date.head()\n"
   ]
  },
  {
   "cell_type": "code",
   "execution_count": 14,
   "id": "6af076c4",
   "metadata": {},
   "outputs": [
    {
     "data": {
      "text/plain": [
       "0   2018-09-28\n",
       "1   2018-09-27\n",
       "2   2018-09-26\n",
       "3   2018-09-25\n",
       "4   2018-09-24\n",
       "Name: Date, dtype: datetime64[ns]"
      ]
     },
     "execution_count": 14,
     "metadata": {},
     "output_type": "execute_result"
    }
   ],
   "source": [
    "df.Date.head()"
   ]
  },
  {
   "cell_type": "markdown",
   "id": "1e912efa",
   "metadata": {},
   "source": [
    "# Step-2 : Data Cleaning and Sorting by date from oldest to newest data"
   ]
  },
  {
   "cell_type": "code",
   "execution_count": 15,
   "id": "8c249270",
   "metadata": {},
   "outputs": [
    {
     "data": {
      "text/plain": [
       "Date                    0\n",
       "Open                    0\n",
       "High                    0\n",
       "Low                     0\n",
       "Last                    0\n",
       "Close                   0\n",
       "Total Trade Quantity    0\n",
       "Turnover (Lacs)         0\n",
       "dtype: int64"
      ]
     },
     "execution_count": 15,
     "metadata": {},
     "output_type": "execute_result"
    }
   ],
   "source": [
    "df.isna().sum()"
   ]
  },
  {
   "cell_type": "code",
   "execution_count": 16,
   "id": "3d16d873",
   "metadata": {},
   "outputs": [
    {
     "data": {
      "text/html": [
       "<div>\n",
       "<style scoped>\n",
       "    .dataframe tbody tr th:only-of-type {\n",
       "        vertical-align: middle;\n",
       "    }\n",
       "\n",
       "    .dataframe tbody tr th {\n",
       "        vertical-align: top;\n",
       "    }\n",
       "\n",
       "    .dataframe thead th {\n",
       "        text-align: right;\n",
       "    }\n",
       "</style>\n",
       "<table border=\"1\" class=\"dataframe\">\n",
       "  <thead>\n",
       "    <tr style=\"text-align: right;\">\n",
       "      <th></th>\n",
       "      <th>Date</th>\n",
       "      <th>Open</th>\n",
       "      <th>High</th>\n",
       "      <th>Low</th>\n",
       "      <th>Last</th>\n",
       "      <th>Close</th>\n",
       "      <th>Total Trade Quantity</th>\n",
       "      <th>Turnover (Lacs)</th>\n",
       "    </tr>\n",
       "  </thead>\n",
       "  <tbody>\n",
       "    <tr>\n",
       "      <th>0</th>\n",
       "      <td>2018-09-28</td>\n",
       "      <td>234.05</td>\n",
       "      <td>235.95</td>\n",
       "      <td>230.20</td>\n",
       "      <td>233.50</td>\n",
       "      <td>233.75</td>\n",
       "      <td>3069914</td>\n",
       "      <td>7162.35</td>\n",
       "    </tr>\n",
       "    <tr>\n",
       "      <th>1</th>\n",
       "      <td>2018-09-27</td>\n",
       "      <td>234.55</td>\n",
       "      <td>236.80</td>\n",
       "      <td>231.10</td>\n",
       "      <td>233.80</td>\n",
       "      <td>233.25</td>\n",
       "      <td>5082859</td>\n",
       "      <td>11859.95</td>\n",
       "    </tr>\n",
       "    <tr>\n",
       "      <th>2</th>\n",
       "      <td>2018-09-26</td>\n",
       "      <td>240.00</td>\n",
       "      <td>240.00</td>\n",
       "      <td>232.50</td>\n",
       "      <td>235.00</td>\n",
       "      <td>234.25</td>\n",
       "      <td>2240909</td>\n",
       "      <td>5248.60</td>\n",
       "    </tr>\n",
       "    <tr>\n",
       "      <th>3</th>\n",
       "      <td>2018-09-25</td>\n",
       "      <td>233.30</td>\n",
       "      <td>236.75</td>\n",
       "      <td>232.00</td>\n",
       "      <td>236.25</td>\n",
       "      <td>236.10</td>\n",
       "      <td>2349368</td>\n",
       "      <td>5503.90</td>\n",
       "    </tr>\n",
       "    <tr>\n",
       "      <th>4</th>\n",
       "      <td>2018-09-24</td>\n",
       "      <td>233.55</td>\n",
       "      <td>239.20</td>\n",
       "      <td>230.75</td>\n",
       "      <td>234.00</td>\n",
       "      <td>233.30</td>\n",
       "      <td>3423509</td>\n",
       "      <td>7999.55</td>\n",
       "    </tr>\n",
       "  </tbody>\n",
       "</table>\n",
       "</div>"
      ],
      "text/plain": [
       "        Date    Open    High     Low    Last   Close  Total Trade Quantity  \\\n",
       "0 2018-09-28  234.05  235.95  230.20  233.50  233.75               3069914   \n",
       "1 2018-09-27  234.55  236.80  231.10  233.80  233.25               5082859   \n",
       "2 2018-09-26  240.00  240.00  232.50  235.00  234.25               2240909   \n",
       "3 2018-09-25  233.30  236.75  232.00  236.25  236.10               2349368   \n",
       "4 2018-09-24  233.55  239.20  230.75  234.00  233.30               3423509   \n",
       "\n",
       "   Turnover (Lacs)  \n",
       "0          7162.35  \n",
       "1         11859.95  \n",
       "2          5248.60  \n",
       "3          5503.90  \n",
       "4          7999.55  "
      ]
     },
     "execution_count": 16,
     "metadata": {},
     "output_type": "execute_result"
    }
   ],
   "source": [
    "df.head()"
   ]
  },
  {
   "cell_type": "code",
   "execution_count": 17,
   "id": "4f0860cd",
   "metadata": {},
   "outputs": [
    {
     "data": {
      "text/html": [
       "<div>\n",
       "<style scoped>\n",
       "    .dataframe tbody tr th:only-of-type {\n",
       "        vertical-align: middle;\n",
       "    }\n",
       "\n",
       "    .dataframe tbody tr th {\n",
       "        vertical-align: top;\n",
       "    }\n",
       "\n",
       "    .dataframe thead th {\n",
       "        text-align: right;\n",
       "    }\n",
       "</style>\n",
       "<table border=\"1\" class=\"dataframe\">\n",
       "  <thead>\n",
       "    <tr style=\"text-align: right;\">\n",
       "      <th></th>\n",
       "      <th>Date</th>\n",
       "      <th>Open</th>\n",
       "      <th>High</th>\n",
       "      <th>Low</th>\n",
       "      <th>Last</th>\n",
       "      <th>Close</th>\n",
       "      <th>Total Trade Quantity</th>\n",
       "      <th>Turnover (Lacs)</th>\n",
       "    </tr>\n",
       "  </thead>\n",
       "  <tbody>\n",
       "    <tr>\n",
       "      <th>2030</th>\n",
       "      <td>2010-07-27</td>\n",
       "      <td>117.6</td>\n",
       "      <td>119.50</td>\n",
       "      <td>112.00</td>\n",
       "      <td>118.80</td>\n",
       "      <td>118.65</td>\n",
       "      <td>586100</td>\n",
       "      <td>694.98</td>\n",
       "    </tr>\n",
       "    <tr>\n",
       "      <th>2031</th>\n",
       "      <td>2010-07-26</td>\n",
       "      <td>120.1</td>\n",
       "      <td>121.00</td>\n",
       "      <td>117.10</td>\n",
       "      <td>117.10</td>\n",
       "      <td>117.60</td>\n",
       "      <td>658440</td>\n",
       "      <td>780.01</td>\n",
       "    </tr>\n",
       "    <tr>\n",
       "      <th>2032</th>\n",
       "      <td>2010-07-23</td>\n",
       "      <td>121.8</td>\n",
       "      <td>121.95</td>\n",
       "      <td>120.25</td>\n",
       "      <td>120.35</td>\n",
       "      <td>120.65</td>\n",
       "      <td>281312</td>\n",
       "      <td>340.31</td>\n",
       "    </tr>\n",
       "    <tr>\n",
       "      <th>2033</th>\n",
       "      <td>2010-07-22</td>\n",
       "      <td>120.3</td>\n",
       "      <td>122.00</td>\n",
       "      <td>120.25</td>\n",
       "      <td>120.75</td>\n",
       "      <td>120.90</td>\n",
       "      <td>293312</td>\n",
       "      <td>355.17</td>\n",
       "    </tr>\n",
       "    <tr>\n",
       "      <th>2034</th>\n",
       "      <td>2010-07-21</td>\n",
       "      <td>122.1</td>\n",
       "      <td>123.00</td>\n",
       "      <td>121.05</td>\n",
       "      <td>121.10</td>\n",
       "      <td>121.55</td>\n",
       "      <td>658666</td>\n",
       "      <td>803.56</td>\n",
       "    </tr>\n",
       "  </tbody>\n",
       "</table>\n",
       "</div>"
      ],
      "text/plain": [
       "           Date   Open    High     Low    Last   Close  Total Trade Quantity  \\\n",
       "2030 2010-07-27  117.6  119.50  112.00  118.80  118.65                586100   \n",
       "2031 2010-07-26  120.1  121.00  117.10  117.10  117.60                658440   \n",
       "2032 2010-07-23  121.8  121.95  120.25  120.35  120.65                281312   \n",
       "2033 2010-07-22  120.3  122.00  120.25  120.75  120.90                293312   \n",
       "2034 2010-07-21  122.1  123.00  121.05  121.10  121.55                658666   \n",
       "\n",
       "      Turnover (Lacs)  \n",
       "2030           694.98  \n",
       "2031           780.01  \n",
       "2032           340.31  \n",
       "2033           355.17  \n",
       "2034           803.56  "
      ]
     },
     "execution_count": 17,
     "metadata": {},
     "output_type": "execute_result"
    }
   ],
   "source": [
    "df.tail()"
   ]
  },
  {
   "cell_type": "code",
   "execution_count": 18,
   "id": "9358e481",
   "metadata": {},
   "outputs": [
    {
     "data": {
      "text/plain": [
       "2034   2010-07-21\n",
       "2033   2010-07-22\n",
       "2032   2010-07-23\n",
       "2031   2010-07-26\n",
       "2030   2010-07-27\n",
       "Name: Date, dtype: datetime64[ns]"
      ]
     },
     "execution_count": 18,
     "metadata": {},
     "output_type": "execute_result"
    }
   ],
   "source": [
    "# Sort Dataframe in date order\n",
    "\n",
    "df.sort_values(by=[\"Date\"], inplace=True, ascending=True)\n",
    "df.Date.head()"
   ]
  },
  {
   "cell_type": "code",
   "execution_count": 19,
   "id": "82a0ac29",
   "metadata": {},
   "outputs": [
    {
     "data": {
      "image/png": "[encoded data removed]",
      "text/plain": [
       "<Figure size 640x480 with 1 Axes>"
      ]
     },
     "metadata": {},
     "output_type": "display_data"
    }
   ],
   "source": [
    "# Let's visualize closing price vs Date... \n",
    "\n",
    "\n",
    "fig, ax = plt.subplots()\n",
    "ax.scatter(df.Date, df.Close);"
   ]
  },
  {
   "cell_type": "code",
   "execution_count": 20,
   "id": "935a6a61",
   "metadata": {},
   "outputs": [
    {
     "data": {
      "text/html": [
       "<div>\n",
       "<style scoped>\n",
       "    .dataframe tbody tr th:only-of-type {\n",
       "        vertical-align: middle;\n",
       "    }\n",
       "\n",
       "    .dataframe tbody tr th {\n",
       "        vertical-align: top;\n",
       "    }\n",
       "\n",
       "    .dataframe thead th {\n",
       "        text-align: right;\n",
       "    }\n",
       "</style>\n",
       "<table border=\"1\" class=\"dataframe\">\n",
       "  <thead>\n",
       "    <tr style=\"text-align: right;\">\n",
       "      <th></th>\n",
       "      <th>Date</th>\n",
       "      <th>Open</th>\n",
       "      <th>High</th>\n",
       "      <th>Low</th>\n",
       "      <th>Last</th>\n",
       "      <th>Close</th>\n",
       "      <th>Total Trade Quantity</th>\n",
       "      <th>Turnover (Lacs)</th>\n",
       "    </tr>\n",
       "  </thead>\n",
       "  <tbody>\n",
       "    <tr>\n",
       "      <th>2034</th>\n",
       "      <td>2010-07-21</td>\n",
       "      <td>122.10</td>\n",
       "      <td>123.00</td>\n",
       "      <td>121.05</td>\n",
       "      <td>121.10</td>\n",
       "      <td>121.55</td>\n",
       "      <td>658666</td>\n",
       "      <td>803.56</td>\n",
       "    </tr>\n",
       "    <tr>\n",
       "      <th>2033</th>\n",
       "      <td>2010-07-22</td>\n",
       "      <td>120.30</td>\n",
       "      <td>122.00</td>\n",
       "      <td>120.25</td>\n",
       "      <td>120.75</td>\n",
       "      <td>120.90</td>\n",
       "      <td>293312</td>\n",
       "      <td>355.17</td>\n",
       "    </tr>\n",
       "    <tr>\n",
       "      <th>2032</th>\n",
       "      <td>2010-07-23</td>\n",
       "      <td>121.80</td>\n",
       "      <td>121.95</td>\n",
       "      <td>120.25</td>\n",
       "      <td>120.35</td>\n",
       "      <td>120.65</td>\n",
       "      <td>281312</td>\n",
       "      <td>340.31</td>\n",
       "    </tr>\n",
       "    <tr>\n",
       "      <th>2031</th>\n",
       "      <td>2010-07-26</td>\n",
       "      <td>120.10</td>\n",
       "      <td>121.00</td>\n",
       "      <td>117.10</td>\n",
       "      <td>117.10</td>\n",
       "      <td>117.60</td>\n",
       "      <td>658440</td>\n",
       "      <td>780.01</td>\n",
       "    </tr>\n",
       "    <tr>\n",
       "      <th>2030</th>\n",
       "      <td>2010-07-27</td>\n",
       "      <td>117.60</td>\n",
       "      <td>119.50</td>\n",
       "      <td>112.00</td>\n",
       "      <td>118.80</td>\n",
       "      <td>118.65</td>\n",
       "      <td>586100</td>\n",
       "      <td>694.98</td>\n",
       "    </tr>\n",
       "    <tr>\n",
       "      <th>...</th>\n",
       "      <td>...</td>\n",
       "      <td>...</td>\n",
       "      <td>...</td>\n",
       "      <td>...</td>\n",
       "      <td>...</td>\n",
       "      <td>...</td>\n",
       "      <td>...</td>\n",
       "      <td>...</td>\n",
       "    </tr>\n",
       "    <tr>\n",
       "      <th>4</th>\n",
       "      <td>2018-09-24</td>\n",
       "      <td>233.55</td>\n",
       "      <td>239.20</td>\n",
       "      <td>230.75</td>\n",
       "      <td>234.00</td>\n",
       "      <td>233.30</td>\n",
       "      <td>3423509</td>\n",
       "      <td>7999.55</td>\n",
       "    </tr>\n",
       "    <tr>\n",
       "      <th>3</th>\n",
       "      <td>2018-09-25</td>\n",
       "      <td>233.30</td>\n",
       "      <td>236.75</td>\n",
       "      <td>232.00</td>\n",
       "      <td>236.25</td>\n",
       "      <td>236.10</td>\n",
       "      <td>2349368</td>\n",
       "      <td>5503.90</td>\n",
       "    </tr>\n",
       "    <tr>\n",
       "      <th>2</th>\n",
       "      <td>2018-09-26</td>\n",
       "      <td>240.00</td>\n",
       "      <td>240.00</td>\n",
       "      <td>232.50</td>\n",
       "      <td>235.00</td>\n",
       "      <td>234.25</td>\n",
       "      <td>2240909</td>\n",
       "      <td>5248.60</td>\n",
       "    </tr>\n",
       "    <tr>\n",
       "      <th>1</th>\n",
       "      <td>2018-09-27</td>\n",
       "      <td>234.55</td>\n",
       "      <td>236.80</td>\n",
       "      <td>231.10</td>\n",
       "      <td>233.80</td>\n",
       "      <td>233.25</td>\n",
       "      <td>5082859</td>\n",
       "      <td>11859.95</td>\n",
       "    </tr>\n",
       "    <tr>\n",
       "      <th>0</th>\n",
       "      <td>2018-09-28</td>\n",
       "      <td>234.05</td>\n",
       "      <td>235.95</td>\n",
       "      <td>230.20</td>\n",
       "      <td>233.50</td>\n",
       "      <td>233.75</td>\n",
       "      <td>3069914</td>\n",
       "      <td>7162.35</td>\n",
       "    </tr>\n",
       "  </tbody>\n",
       "</table>\n",
       "<p>2035 rows × 8 columns</p>\n",
       "</div>"
      ],
      "text/plain": [
       "           Date    Open    High     Low    Last   Close  Total Trade Quantity  \\\n",
       "2034 2010-07-21  122.10  123.00  121.05  121.10  121.55                658666   \n",
       "2033 2010-07-22  120.30  122.00  120.25  120.75  120.90                293312   \n",
       "2032 2010-07-23  121.80  121.95  120.25  120.35  120.65                281312   \n",
       "2031 2010-07-26  120.10  121.00  117.10  117.10  117.60                658440   \n",
       "2030 2010-07-27  117.60  119.50  112.00  118.80  118.65                586100   \n",
       "...         ...     ...     ...     ...     ...     ...                   ...   \n",
       "4    2018-09-24  233.55  239.20  230.75  234.00  233.30               3423509   \n",
       "3    2018-09-25  233.30  236.75  232.00  236.25  236.10               2349368   \n",
       "2    2018-09-26  240.00  240.00  232.50  235.00  234.25               2240909   \n",
       "1    2018-09-27  234.55  236.80  231.10  233.80  233.25               5082859   \n",
       "0    2018-09-28  234.05  235.95  230.20  233.50  233.75               3069914   \n",
       "\n",
       "      Turnover (Lacs)  \n",
       "2034           803.56  \n",
       "2033           355.17  \n",
       "2032           340.31  \n",
       "2031           780.01  \n",
       "2030           694.98  \n",
       "...               ...  \n",
       "4             7999.55  \n",
       "3             5503.90  \n",
       "2             5248.60  \n",
       "1            11859.95  \n",
       "0             7162.35  \n",
       "\n",
       "[2035 rows x 8 columns]"
      ]
     },
     "execution_count": 20,
     "metadata": {},
     "output_type": "execute_result"
    }
   ],
   "source": [
    "df"
   ]
  },
  {
   "cell_type": "markdown",
   "id": "a577a9e3",
   "metadata": {},
   "source": [
    "## Make a copy of the original DataFrame"
   ]
  },
  {
   "cell_type": "code",
   "execution_count": 21,
   "id": "3138a2b1",
   "metadata": {},
   "outputs": [
    {
     "data": {
      "text/html": [
       "<div>\n",
       "<style scoped>\n",
       "    .dataframe tbody tr th:only-of-type {\n",
       "        vertical-align: middle;\n",
       "    }\n",
       "\n",
       "    .dataframe tbody tr th {\n",
       "        vertical-align: top;\n",
       "    }\n",
       "\n",
       "    .dataframe thead th {\n",
       "        text-align: right;\n",
       "    }\n",
       "</style>\n",
       "<table border=\"1\" class=\"dataframe\">\n",
       "  <thead>\n",
       "    <tr style=\"text-align: right;\">\n",
       "      <th></th>\n",
       "      <th>Date</th>\n",
       "      <th>Open</th>\n",
       "      <th>High</th>\n",
       "      <th>Low</th>\n",
       "      <th>Last</th>\n",
       "      <th>Close</th>\n",
       "      <th>Total Trade Quantity</th>\n",
       "      <th>Turnover (Lacs)</th>\n",
       "    </tr>\n",
       "  </thead>\n",
       "  <tbody>\n",
       "    <tr>\n",
       "      <th>2034</th>\n",
       "      <td>2010-07-21</td>\n",
       "      <td>122.10</td>\n",
       "      <td>123.00</td>\n",
       "      <td>121.05</td>\n",
       "      <td>121.10</td>\n",
       "      <td>121.55</td>\n",
       "      <td>658666</td>\n",
       "      <td>803.56</td>\n",
       "    </tr>\n",
       "    <tr>\n",
       "      <th>2033</th>\n",
       "      <td>2010-07-22</td>\n",
       "      <td>120.30</td>\n",
       "      <td>122.00</td>\n",
       "      <td>120.25</td>\n",
       "      <td>120.75</td>\n",
       "      <td>120.90</td>\n",
       "      <td>293312</td>\n",
       "      <td>355.17</td>\n",
       "    </tr>\n",
       "    <tr>\n",
       "      <th>2032</th>\n",
       "      <td>2010-07-23</td>\n",
       "      <td>121.80</td>\n",
       "      <td>121.95</td>\n",
       "      <td>120.25</td>\n",
       "      <td>120.35</td>\n",
       "      <td>120.65</td>\n",
       "      <td>281312</td>\n",
       "      <td>340.31</td>\n",
       "    </tr>\n",
       "    <tr>\n",
       "      <th>2031</th>\n",
       "      <td>2010-07-26</td>\n",
       "      <td>120.10</td>\n",
       "      <td>121.00</td>\n",
       "      <td>117.10</td>\n",
       "      <td>117.10</td>\n",
       "      <td>117.60</td>\n",
       "      <td>658440</td>\n",
       "      <td>780.01</td>\n",
       "    </tr>\n",
       "    <tr>\n",
       "      <th>2030</th>\n",
       "      <td>2010-07-27</td>\n",
       "      <td>117.60</td>\n",
       "      <td>119.50</td>\n",
       "      <td>112.00</td>\n",
       "      <td>118.80</td>\n",
       "      <td>118.65</td>\n",
       "      <td>586100</td>\n",
       "      <td>694.98</td>\n",
       "    </tr>\n",
       "    <tr>\n",
       "      <th>...</th>\n",
       "      <td>...</td>\n",
       "      <td>...</td>\n",
       "      <td>...</td>\n",
       "      <td>...</td>\n",
       "      <td>...</td>\n",
       "      <td>...</td>\n",
       "      <td>...</td>\n",
       "      <td>...</td>\n",
       "    </tr>\n",
       "    <tr>\n",
       "      <th>4</th>\n",
       "      <td>2018-09-24</td>\n",
       "      <td>233.55</td>\n",
       "      <td>239.20</td>\n",
       "      <td>230.75</td>\n",
       "      <td>234.00</td>\n",
       "      <td>233.30</td>\n",
       "      <td>3423509</td>\n",
       "      <td>7999.55</td>\n",
       "    </tr>\n",
       "    <tr>\n",
       "      <th>3</th>\n",
       "      <td>2018-09-25</td>\n",
       "      <td>233.30</td>\n",
       "      <td>236.75</td>\n",
       "      <td>232.00</td>\n",
       "      <td>236.25</td>\n",
       "      <td>236.10</td>\n",
       "      <td>2349368</td>\n",
       "      <td>5503.90</td>\n",
       "    </tr>\n",
       "    <tr>\n",
       "      <th>2</th>\n",
       "      <td>2018-09-26</td>\n",
       "      <td>240.00</td>\n",
       "      <td>240.00</td>\n",
       "      <td>232.50</td>\n",
       "      <td>235.00</td>\n",
       "      <td>234.25</td>\n",
       "      <td>2240909</td>\n",
       "      <td>5248.60</td>\n",
       "    </tr>\n",
       "    <tr>\n",
       "      <th>1</th>\n",
       "      <td>2018-09-27</td>\n",
       "      <td>234.55</td>\n",
       "      <td>236.80</td>\n",
       "      <td>231.10</td>\n",
       "      <td>233.80</td>\n",
       "      <td>233.25</td>\n",
       "      <td>5082859</td>\n",
       "      <td>11859.95</td>\n",
       "    </tr>\n",
       "    <tr>\n",
       "      <th>0</th>\n",
       "      <td>2018-09-28</td>\n",
       "      <td>234.05</td>\n",
       "      <td>235.95</td>\n",
       "      <td>230.20</td>\n",
       "      <td>233.50</td>\n",
       "      <td>233.75</td>\n",
       "      <td>3069914</td>\n",
       "      <td>7162.35</td>\n",
       "    </tr>\n",
       "  </tbody>\n",
       "</table>\n",
       "<p>2035 rows × 8 columns</p>\n",
       "</div>"
      ],
      "text/plain": [
       "           Date    Open    High     Low    Last   Close  Total Trade Quantity  \\\n",
       "2034 2010-07-21  122.10  123.00  121.05  121.10  121.55                658666   \n",
       "2033 2010-07-22  120.30  122.00  120.25  120.75  120.90                293312   \n",
       "2032 2010-07-23  121.80  121.95  120.25  120.35  120.65                281312   \n",
       "2031 2010-07-26  120.10  121.00  117.10  117.10  117.60                658440   \n",
       "2030 2010-07-27  117.60  119.50  112.00  118.80  118.65                586100   \n",
       "...         ...     ...     ...     ...     ...     ...                   ...   \n",
       "4    2018-09-24  233.55  239.20  230.75  234.00  233.30               3423509   \n",
       "3    2018-09-25  233.30  236.75  232.00  236.25  236.10               2349368   \n",
       "2    2018-09-26  240.00  240.00  232.50  235.00  234.25               2240909   \n",
       "1    2018-09-27  234.55  236.80  231.10  233.80  233.25               5082859   \n",
       "0    2018-09-28  234.05  235.95  230.20  233.50  233.75               3069914   \n",
       "\n",
       "      Turnover (Lacs)  \n",
       "2034           803.56  \n",
       "2033           355.17  \n",
       "2032           340.31  \n",
       "2031           780.01  \n",
       "2030           694.98  \n",
       "...               ...  \n",
       "4             7999.55  \n",
       "3             5503.90  \n",
       "2             5248.60  \n",
       "1            11859.95  \n",
       "0             7162.35  \n",
       "\n",
       "[2035 rows x 8 columns]"
      ]
     },
     "execution_count": 21,
     "metadata": {},
     "output_type": "execute_result"
    }
   ],
   "source": [
    "copy_df = df.copy()\n",
    "copy_df"
   ]
  },
  {
   "cell_type": "code",
   "execution_count": 22,
   "id": "551479c6",
   "metadata": {},
   "outputs": [
    {
     "data": {
      "text/html": [
       "<div>\n",
       "<style scoped>\n",
       "    .dataframe tbody tr th:only-of-type {\n",
       "        vertical-align: middle;\n",
       "    }\n",
       "\n",
       "    .dataframe tbody tr th {\n",
       "        vertical-align: top;\n",
       "    }\n",
       "\n",
       "    .dataframe thead th {\n",
       "        text-align: right;\n",
       "    }\n",
       "</style>\n",
       "<table border=\"1\" class=\"dataframe\">\n",
       "  <thead>\n",
       "    <tr style=\"text-align: right;\">\n",
       "      <th></th>\n",
       "      <th>index</th>\n",
       "      <th>Date</th>\n",
       "      <th>Open</th>\n",
       "      <th>High</th>\n",
       "      <th>Low</th>\n",
       "      <th>Last</th>\n",
       "      <th>Close</th>\n",
       "      <th>Total Trade Quantity</th>\n",
       "      <th>Turnover (Lacs)</th>\n",
       "    </tr>\n",
       "  </thead>\n",
       "  <tbody>\n",
       "    <tr>\n",
       "      <th>0</th>\n",
       "      <td>2034</td>\n",
       "      <td>2010-07-21</td>\n",
       "      <td>122.10</td>\n",
       "      <td>123.00</td>\n",
       "      <td>121.05</td>\n",
       "      <td>121.10</td>\n",
       "      <td>121.55</td>\n",
       "      <td>658666</td>\n",
       "      <td>803.56</td>\n",
       "    </tr>\n",
       "    <tr>\n",
       "      <th>1</th>\n",
       "      <td>2033</td>\n",
       "      <td>2010-07-22</td>\n",
       "      <td>120.30</td>\n",
       "      <td>122.00</td>\n",
       "      <td>120.25</td>\n",
       "      <td>120.75</td>\n",
       "      <td>120.90</td>\n",
       "      <td>293312</td>\n",
       "      <td>355.17</td>\n",
       "    </tr>\n",
       "    <tr>\n",
       "      <th>2</th>\n",
       "      <td>2032</td>\n",
       "      <td>2010-07-23</td>\n",
       "      <td>121.80</td>\n",
       "      <td>121.95</td>\n",
       "      <td>120.25</td>\n",
       "      <td>120.35</td>\n",
       "      <td>120.65</td>\n",
       "      <td>281312</td>\n",
       "      <td>340.31</td>\n",
       "    </tr>\n",
       "    <tr>\n",
       "      <th>3</th>\n",
       "      <td>2031</td>\n",
       "      <td>2010-07-26</td>\n",
       "      <td>120.10</td>\n",
       "      <td>121.00</td>\n",
       "      <td>117.10</td>\n",
       "      <td>117.10</td>\n",
       "      <td>117.60</td>\n",
       "      <td>658440</td>\n",
       "      <td>780.01</td>\n",
       "    </tr>\n",
       "    <tr>\n",
       "      <th>4</th>\n",
       "      <td>2030</td>\n",
       "      <td>2010-07-27</td>\n",
       "      <td>117.60</td>\n",
       "      <td>119.50</td>\n",
       "      <td>112.00</td>\n",
       "      <td>118.80</td>\n",
       "      <td>118.65</td>\n",
       "      <td>586100</td>\n",
       "      <td>694.98</td>\n",
       "    </tr>\n",
       "    <tr>\n",
       "      <th>...</th>\n",
       "      <td>...</td>\n",
       "      <td>...</td>\n",
       "      <td>...</td>\n",
       "      <td>...</td>\n",
       "      <td>...</td>\n",
       "      <td>...</td>\n",
       "      <td>...</td>\n",
       "      <td>...</td>\n",
       "      <td>...</td>\n",
       "    </tr>\n",
       "    <tr>\n",
       "      <th>2030</th>\n",
       "      <td>4</td>\n",
       "      <td>2018-09-24</td>\n",
       "      <td>233.55</td>\n",
       "      <td>239.20</td>\n",
       "      <td>230.75</td>\n",
       "      <td>234.00</td>\n",
       "      <td>233.30</td>\n",
       "      <td>3423509</td>\n",
       "      <td>7999.55</td>\n",
       "    </tr>\n",
       "    <tr>\n",
       "      <th>2031</th>\n",
       "      <td>3</td>\n",
       "      <td>2018-09-25</td>\n",
       "      <td>233.30</td>\n",
       "      <td>236.75</td>\n",
       "      <td>232.00</td>\n",
       "      <td>236.25</td>\n",
       "      <td>236.10</td>\n",
       "      <td>2349368</td>\n",
       "      <td>5503.90</td>\n",
       "    </tr>\n",
       "    <tr>\n",
       "      <th>2032</th>\n",
       "      <td>2</td>\n",
       "      <td>2018-09-26</td>\n",
       "      <td>240.00</td>\n",
       "      <td>240.00</td>\n",
       "      <td>232.50</td>\n",
       "      <td>235.00</td>\n",
       "      <td>234.25</td>\n",
       "      <td>2240909</td>\n",
       "      <td>5248.60</td>\n",
       "    </tr>\n",
       "    <tr>\n",
       "      <th>2033</th>\n",
       "      <td>1</td>\n",
       "      <td>2018-09-27</td>\n",
       "      <td>234.55</td>\n",
       "      <td>236.80</td>\n",
       "      <td>231.10</td>\n",
       "      <td>233.80</td>\n",
       "      <td>233.25</td>\n",
       "      <td>5082859</td>\n",
       "      <td>11859.95</td>\n",
       "    </tr>\n",
       "    <tr>\n",
       "      <th>2034</th>\n",
       "      <td>0</td>\n",
       "      <td>2018-09-28</td>\n",
       "      <td>234.05</td>\n",
       "      <td>235.95</td>\n",
       "      <td>230.20</td>\n",
       "      <td>233.50</td>\n",
       "      <td>233.75</td>\n",
       "      <td>3069914</td>\n",
       "      <td>7162.35</td>\n",
       "    </tr>\n",
       "  </tbody>\n",
       "</table>\n",
       "<p>2035 rows × 9 columns</p>\n",
       "</div>"
      ],
      "text/plain": [
       "      index       Date    Open    High     Low    Last   Close  \\\n",
       "0      2034 2010-07-21  122.10  123.00  121.05  121.10  121.55   \n",
       "1      2033 2010-07-22  120.30  122.00  120.25  120.75  120.90   \n",
       "2      2032 2010-07-23  121.80  121.95  120.25  120.35  120.65   \n",
       "3      2031 2010-07-26  120.10  121.00  117.10  117.10  117.60   \n",
       "4      2030 2010-07-27  117.60  119.50  112.00  118.80  118.65   \n",
       "...     ...        ...     ...     ...     ...     ...     ...   \n",
       "2030      4 2018-09-24  233.55  239.20  230.75  234.00  233.30   \n",
       "2031      3 2018-09-25  233.30  236.75  232.00  236.25  236.10   \n",
       "2032      2 2018-09-26  240.00  240.00  232.50  235.00  234.25   \n",
       "2033      1 2018-09-27  234.55  236.80  231.10  233.80  233.25   \n",
       "2034      0 2018-09-28  234.05  235.95  230.20  233.50  233.75   \n",
       "\n",
       "      Total Trade Quantity  Turnover (Lacs)  \n",
       "0                   658666           803.56  \n",
       "1                   293312           355.17  \n",
       "2                   281312           340.31  \n",
       "3                   658440           780.01  \n",
       "4                   586100           694.98  \n",
       "...                    ...              ...  \n",
       "2030               3423509          7999.55  \n",
       "2031               2349368          5503.90  \n",
       "2032               2240909          5248.60  \n",
       "2033               5082859         11859.95  \n",
       "2034               3069914          7162.35  \n",
       "\n",
       "[2035 rows x 9 columns]"
      ]
     },
     "execution_count": 22,
     "metadata": {},
     "output_type": "execute_result"
    }
   ],
   "source": [
    "copy_df.reset_index(inplace =True)\n",
    "copy_df"
   ]
  },
  {
   "cell_type": "code",
   "execution_count": 23,
   "id": "8a538cd5",
   "metadata": {},
   "outputs": [],
   "source": [
    "copy_df.drop(\"index\", axis=1, inplace=True)\n"
   ]
  },
  {
   "cell_type": "code",
   "execution_count": 24,
   "id": "2230f4cd",
   "metadata": {},
   "outputs": [
    {
     "data": {
      "text/html": [
       "<div>\n",
       "<style scoped>\n",
       "    .dataframe tbody tr th:only-of-type {\n",
       "        vertical-align: middle;\n",
       "    }\n",
       "\n",
       "    .dataframe tbody tr th {\n",
       "        vertical-align: top;\n",
       "    }\n",
       "\n",
       "    .dataframe thead th {\n",
       "        text-align: right;\n",
       "    }\n",
       "</style>\n",
       "<table border=\"1\" class=\"dataframe\">\n",
       "  <thead>\n",
       "    <tr style=\"text-align: right;\">\n",
       "      <th></th>\n",
       "      <th>Date</th>\n",
       "      <th>Open</th>\n",
       "      <th>High</th>\n",
       "      <th>Low</th>\n",
       "      <th>Last</th>\n",
       "      <th>Close</th>\n",
       "      <th>Total Trade Quantity</th>\n",
       "      <th>Turnover (Lacs)</th>\n",
       "    </tr>\n",
       "  </thead>\n",
       "  <tbody>\n",
       "    <tr>\n",
       "      <th>0</th>\n",
       "      <td>2010-07-21</td>\n",
       "      <td>122.10</td>\n",
       "      <td>123.00</td>\n",
       "      <td>121.05</td>\n",
       "      <td>121.10</td>\n",
       "      <td>121.55</td>\n",
       "      <td>658666</td>\n",
       "      <td>803.56</td>\n",
       "    </tr>\n",
       "    <tr>\n",
       "      <th>1</th>\n",
       "      <td>2010-07-22</td>\n",
       "      <td>120.30</td>\n",
       "      <td>122.00</td>\n",
       "      <td>120.25</td>\n",
       "      <td>120.75</td>\n",
       "      <td>120.90</td>\n",
       "      <td>293312</td>\n",
       "      <td>355.17</td>\n",
       "    </tr>\n",
       "    <tr>\n",
       "      <th>2</th>\n",
       "      <td>2010-07-23</td>\n",
       "      <td>121.80</td>\n",
       "      <td>121.95</td>\n",
       "      <td>120.25</td>\n",
       "      <td>120.35</td>\n",
       "      <td>120.65</td>\n",
       "      <td>281312</td>\n",
       "      <td>340.31</td>\n",
       "    </tr>\n",
       "    <tr>\n",
       "      <th>3</th>\n",
       "      <td>2010-07-26</td>\n",
       "      <td>120.10</td>\n",
       "      <td>121.00</td>\n",
       "      <td>117.10</td>\n",
       "      <td>117.10</td>\n",
       "      <td>117.60</td>\n",
       "      <td>658440</td>\n",
       "      <td>780.01</td>\n",
       "    </tr>\n",
       "    <tr>\n",
       "      <th>4</th>\n",
       "      <td>2010-07-27</td>\n",
       "      <td>117.60</td>\n",
       "      <td>119.50</td>\n",
       "      <td>112.00</td>\n",
       "      <td>118.80</td>\n",
       "      <td>118.65</td>\n",
       "      <td>586100</td>\n",
       "      <td>694.98</td>\n",
       "    </tr>\n",
       "    <tr>\n",
       "      <th>...</th>\n",
       "      <td>...</td>\n",
       "      <td>...</td>\n",
       "      <td>...</td>\n",
       "      <td>...</td>\n",
       "      <td>...</td>\n",
       "      <td>...</td>\n",
       "      <td>...</td>\n",
       "      <td>...</td>\n",
       "    </tr>\n",
       "    <tr>\n",
       "      <th>2030</th>\n",
       "      <td>2018-09-24</td>\n",
       "      <td>233.55</td>\n",
       "      <td>239.20</td>\n",
       "      <td>230.75</td>\n",
       "      <td>234.00</td>\n",
       "      <td>233.30</td>\n",
       "      <td>3423509</td>\n",
       "      <td>7999.55</td>\n",
       "    </tr>\n",
       "    <tr>\n",
       "      <th>2031</th>\n",
       "      <td>2018-09-25</td>\n",
       "      <td>233.30</td>\n",
       "      <td>236.75</td>\n",
       "      <td>232.00</td>\n",
       "      <td>236.25</td>\n",
       "      <td>236.10</td>\n",
       "      <td>2349368</td>\n",
       "      <td>5503.90</td>\n",
       "    </tr>\n",
       "    <tr>\n",
       "      <th>2032</th>\n",
       "      <td>2018-09-26</td>\n",
       "      <td>240.00</td>\n",
       "      <td>240.00</td>\n",
       "      <td>232.50</td>\n",
       "      <td>235.00</td>\n",
       "      <td>234.25</td>\n",
       "      <td>2240909</td>\n",
       "      <td>5248.60</td>\n",
       "    </tr>\n",
       "    <tr>\n",
       "      <th>2033</th>\n",
       "      <td>2018-09-27</td>\n",
       "      <td>234.55</td>\n",
       "      <td>236.80</td>\n",
       "      <td>231.10</td>\n",
       "      <td>233.80</td>\n",
       "      <td>233.25</td>\n",
       "      <td>5082859</td>\n",
       "      <td>11859.95</td>\n",
       "    </tr>\n",
       "    <tr>\n",
       "      <th>2034</th>\n",
       "      <td>2018-09-28</td>\n",
       "      <td>234.05</td>\n",
       "      <td>235.95</td>\n",
       "      <td>230.20</td>\n",
       "      <td>233.50</td>\n",
       "      <td>233.75</td>\n",
       "      <td>3069914</td>\n",
       "      <td>7162.35</td>\n",
       "    </tr>\n",
       "  </tbody>\n",
       "</table>\n",
       "<p>2035 rows × 8 columns</p>\n",
       "</div>"
      ],
      "text/plain": [
       "           Date    Open    High     Low    Last   Close  Total Trade Quantity  \\\n",
       "0    2010-07-21  122.10  123.00  121.05  121.10  121.55                658666   \n",
       "1    2010-07-22  120.30  122.00  120.25  120.75  120.90                293312   \n",
       "2    2010-07-23  121.80  121.95  120.25  120.35  120.65                281312   \n",
       "3    2010-07-26  120.10  121.00  117.10  117.10  117.60                658440   \n",
       "4    2010-07-27  117.60  119.50  112.00  118.80  118.65                586100   \n",
       "...         ...     ...     ...     ...     ...     ...                   ...   \n",
       "2030 2018-09-24  233.55  239.20  230.75  234.00  233.30               3423509   \n",
       "2031 2018-09-25  233.30  236.75  232.00  236.25  236.10               2349368   \n",
       "2032 2018-09-26  240.00  240.00  232.50  235.00  234.25               2240909   \n",
       "2033 2018-09-27  234.55  236.80  231.10  233.80  233.25               5082859   \n",
       "2034 2018-09-28  234.05  235.95  230.20  233.50  233.75               3069914   \n",
       "\n",
       "      Turnover (Lacs)  \n",
       "0              803.56  \n",
       "1              355.17  \n",
       "2              340.31  \n",
       "3              780.01  \n",
       "4              694.98  \n",
       "...               ...  \n",
       "2030          7999.55  \n",
       "2031          5503.90  \n",
       "2032          5248.60  \n",
       "2033         11859.95  \n",
       "2034          7162.35  \n",
       "\n",
       "[2035 rows x 8 columns]"
      ]
     },
     "execution_count": 24,
     "metadata": {},
     "output_type": "execute_result"
    }
   ],
   "source": [
    "copy_df"
   ]
  },
  {
   "cell_type": "code",
   "execution_count": 25,
   "id": "25152cc8",
   "metadata": {},
   "outputs": [
    {
     "data": {
      "text/html": [
       "<div>\n",
       "<style scoped>\n",
       "    .dataframe tbody tr th:only-of-type {\n",
       "        vertical-align: middle;\n",
       "    }\n",
       "\n",
       "    .dataframe tbody tr th {\n",
       "        vertical-align: top;\n",
       "    }\n",
       "\n",
       "    .dataframe thead th {\n",
       "        text-align: right;\n",
       "    }\n",
       "</style>\n",
       "<table border=\"1\" class=\"dataframe\">\n",
       "  <thead>\n",
       "    <tr style=\"text-align: right;\">\n",
       "      <th></th>\n",
       "      <th>Open</th>\n",
       "      <th>High</th>\n",
       "      <th>Low</th>\n",
       "      <th>Last</th>\n",
       "      <th>Close</th>\n",
       "      <th>Total Trade Quantity</th>\n",
       "      <th>Turnover (Lacs)</th>\n",
       "    </tr>\n",
       "  </thead>\n",
       "  <tbody>\n",
       "    <tr>\n",
       "      <th>Open</th>\n",
       "      <td>1.000000</td>\n",
       "      <td>0.999015</td>\n",
       "      <td>0.998825</td>\n",
       "      <td>0.997781</td>\n",
       "      <td>0.997840</td>\n",
       "      <td>0.385951</td>\n",
       "      <td>0.612877</td>\n",
       "    </tr>\n",
       "    <tr>\n",
       "      <th>High</th>\n",
       "      <td>0.999015</td>\n",
       "      <td>1.000000</td>\n",
       "      <td>0.998773</td>\n",
       "      <td>0.999155</td>\n",
       "      <td>0.999194</td>\n",
       "      <td>0.406405</td>\n",
       "      <td>0.630589</td>\n",
       "    </tr>\n",
       "    <tr>\n",
       "      <th>Low</th>\n",
       "      <td>0.998825</td>\n",
       "      <td>0.998773</td>\n",
       "      <td>1.000000</td>\n",
       "      <td>0.999051</td>\n",
       "      <td>0.999119</td>\n",
       "      <td>0.380621</td>\n",
       "      <td>0.608502</td>\n",
       "    </tr>\n",
       "    <tr>\n",
       "      <th>Last</th>\n",
       "      <td>0.997781</td>\n",
       "      <td>0.999155</td>\n",
       "      <td>0.999051</td>\n",
       "      <td>1.000000</td>\n",
       "      <td>0.999961</td>\n",
       "      <td>0.399328</td>\n",
       "      <td>0.624584</td>\n",
       "    </tr>\n",
       "    <tr>\n",
       "      <th>Close</th>\n",
       "      <td>0.997840</td>\n",
       "      <td>0.999194</td>\n",
       "      <td>0.999119</td>\n",
       "      <td>0.999961</td>\n",
       "      <td>1.000000</td>\n",
       "      <td>0.398911</td>\n",
       "      <td>0.624213</td>\n",
       "    </tr>\n",
       "    <tr>\n",
       "      <th>Total Trade Quantity</th>\n",
       "      <td>0.385951</td>\n",
       "      <td>0.406405</td>\n",
       "      <td>0.380621</td>\n",
       "      <td>0.399328</td>\n",
       "      <td>0.398911</td>\n",
       "      <td>1.000000</td>\n",
       "      <td>0.926931</td>\n",
       "    </tr>\n",
       "    <tr>\n",
       "      <th>Turnover (Lacs)</th>\n",
       "      <td>0.612877</td>\n",
       "      <td>0.630589</td>\n",
       "      <td>0.608502</td>\n",
       "      <td>0.624584</td>\n",
       "      <td>0.624213</td>\n",
       "      <td>0.926931</td>\n",
       "      <td>1.000000</td>\n",
       "    </tr>\n",
       "  </tbody>\n",
       "</table>\n",
       "</div>"
      ],
      "text/plain": [
       "                          Open      High       Low      Last     Close  \\\n",
       "Open                  1.000000  0.999015  0.998825  0.997781  0.997840   \n",
       "High                  0.999015  1.000000  0.998773  0.999155  0.999194   \n",
       "Low                   0.998825  0.998773  1.000000  0.999051  0.999119   \n",
       "Last                  0.997781  0.999155  0.999051  1.000000  0.999961   \n",
       "Close                 0.997840  0.999194  0.999119  0.999961  1.000000   \n",
       "Total Trade Quantity  0.385951  0.406405  0.380621  0.399328  0.398911   \n",
       "Turnover (Lacs)       0.612877  0.630589  0.608502  0.624584  0.624213   \n",
       "\n",
       "                      Total Trade Quantity  Turnover (Lacs)  \n",
       "Open                              0.385951         0.612877  \n",
       "High                              0.406405         0.630589  \n",
       "Low                               0.380621         0.608502  \n",
       "Last                              0.399328         0.624584  \n",
       "Close                             0.398911         0.624213  \n",
       "Total Trade Quantity              1.000000         0.926931  \n",
       "Turnover (Lacs)                   0.926931         1.000000  "
      ]
     },
     "execution_count": 25,
     "metadata": {},
     "output_type": "execute_result"
    }
   ],
   "source": [
    "# Let's see correlation matrix...\n",
    "copy_df.corr()"
   ]
  },
  {
   "cell_type": "code",
   "execution_count": 26,
   "id": "fbb4395a",
   "metadata": {},
   "outputs": [
    {
     "data": {
      "image/png": "[encoded data removed]",
      "text/plain": [
       "<Figure size 1000x700 with 1 Axes>"
      ]
     },
     "metadata": {},
     "output_type": "display_data"
    }
   ],
   "source": [
    "plt.figure(figsize=(10,7))\n",
    "plt.plot(copy_df[\"Date\"],\n",
    "         copy_df[\"Close\"])\n",
    "plt.xlabel(\"Date\")\n",
    "plt.ylabel(\"Closed Price\");\n",
    "plt.title(\"Variation of Closing price with different Date year\",color=\"orange\",fontsize=18);\n"
   ]
  },
  {
   "cell_type": "markdown",
   "id": "b71891ea",
   "metadata": {},
   "source": [
    "# Step-3 : Applying univariate approch by selecting Closing Price as target variables."
   ]
  },
  {
   "cell_type": "markdown",
   "id": "bb9755c4",
   "metadata": {},
   "source": [
    "## Univariate Analysis of Closing Price"
   ]
  },
  {
   "cell_type": "code",
   "execution_count": 27,
   "id": "ad80eb50",
   "metadata": {},
   "outputs": [
    {
     "data": {
      "text/plain": [
       "0       121.55\n",
       "1       120.90\n",
       "2       120.65\n",
       "3       117.60\n",
       "4       118.65\n",
       "         ...  \n",
       "2030    233.30\n",
       "2031    236.10\n",
       "2032    234.25\n",
       "2033    233.25\n",
       "2034    233.75\n",
       "Name: Close, Length: 2035, dtype: float64"
      ]
     },
     "execution_count": 27,
     "metadata": {},
     "output_type": "execute_result"
    }
   ],
   "source": [
    "# Considering only `Close` variable...\n",
    "\n",
    "close_df = copy_df[\"Close\"]\n",
    "close_df"
   ]
  },
  {
   "cell_type": "markdown",
   "id": "0b3e1b5c",
   "metadata": {},
   "source": [
    "# Step-4: Exploration and Analysis of Datasets."
   ]
  },
  {
   "cell_type": "code",
   "execution_count": 28,
   "id": "de7ed064",
   "metadata": {},
   "outputs": [
    {
     "data": {
      "text/plain": [
       "2035"
      ]
     },
     "execution_count": 28,
     "metadata": {},
     "output_type": "execute_result"
    }
   ],
   "source": [
    "close_df.size"
   ]
  },
  {
   "cell_type": "code",
   "execution_count": 29,
   "id": "3892dccf",
   "metadata": {},
   "outputs": [
    {
     "data": {
      "text/plain": [
       "(2035,)"
      ]
     },
     "execution_count": 29,
     "metadata": {},
     "output_type": "execute_result"
    }
   ],
   "source": [
    "close_df.shape"
   ]
  },
  {
   "cell_type": "code",
   "execution_count": 30,
   "id": "b671f268",
   "metadata": {},
   "outputs": [
    {
     "name": "stdout",
     "output_type": "stream",
     "text": [
      "<class 'pandas.core.series.Series'>\n",
      "RangeIndex: 2035 entries, 0 to 2034\n",
      "Series name: Close\n",
      "Non-Null Count  Dtype  \n",
      "--------------  -----  \n",
      "2035 non-null   float64\n",
      "dtypes: float64(1)\n",
      "memory usage: 16.0 KB\n"
     ]
    }
   ],
   "source": [
    "close_df.info()\n"
   ]
  },
  {
   "cell_type": "code",
   "execution_count": 31,
   "id": "9524beed",
   "metadata": {},
   "outputs": [
    {
     "data": {
      "text/plain": [
       "count    2035.00000\n",
       "mean      149.45027\n",
       "std        48.71204\n",
       "min        80.95000\n",
       "25%       120.05000\n",
       "50%       141.25000\n",
       "75%       156.90000\n",
       "max       325.75000\n",
       "Name: Close, dtype: float64"
      ]
     },
     "execution_count": 31,
     "metadata": {},
     "output_type": "execute_result"
    }
   ],
   "source": [
    "close_df.describe()\n"
   ]
  },
  {
   "cell_type": "code",
   "execution_count": 32,
   "id": "ce08435f",
   "metadata": {},
   "outputs": [
    {
     "data": {
      "image/png": "[encoded data removed]",
      "text/plain": [
       "<Figure size 640x480 with 1 Axes>"
      ]
     },
     "metadata": {},
     "output_type": "display_data"
    }
   ],
   "source": [
    "plt.plot(copy_df.Date, close_df)\n",
    "plt.xlabel(\"Time in Year\")\n",
    "plt.ylabel(\"Closing Price\");\n",
    "plt.title(\"Variation of Closing price with Time\",\n",
    "          color=\"orange\",\n",
    "          fontsize=18);"
   ]
  },
  {
   "cell_type": "markdown",
   "id": "ea4cc57f",
   "metadata": {},
   "source": [
    "# Step-5: Preprocessing by MinMax Scaler."
   ]
  },
  {
   "cell_type": "code",
   "execution_count": 33,
   "id": "847a6ca2",
   "metadata": {},
   "outputs": [
    {
     "data": {
      "text/plain": [
       "array([[0.16584967],\n",
       "       [0.16319444],\n",
       "       [0.1621732 ],\n",
       "       ...,\n",
       "       [0.62622549],\n",
       "       [0.62214052],\n",
       "       [0.62418301]])"
      ]
     },
     "execution_count": 33,
     "metadata": {},
     "output_type": "execute_result"
    }
   ],
   "source": [
    "from sklearn.preprocessing import MinMaxScaler\n",
    "\n",
    "minmax = MinMaxScaler(feature_range=(0,1)) # (0,1) by default.But mentioned for understanding\n",
    "close_df = minmax.fit_transform(np.array(close_df).reshape(-1, 1))\n",
    "close_df"
   ]
  },
  {
   "cell_type": "markdown",
   "id": "45a0a58a",
   "metadata": {},
   "source": [
    "# Step-6: Preparing train and test datasets."
   ]
  },
  {
   "cell_type": "code",
   "execution_count": 34,
   "id": "8eb49464",
   "metadata": {},
   "outputs": [],
   "source": [
    "train_size = int(len(close_df)*0.7)\n",
    "test_size = len(close_df) - train_size\n",
    "train_data = close_df[:train_size, :] # Slicing row from 0 to train_size indexlocation but column is kept unsliced.\n",
    "test_data = close_df[train_size:len(close_df), :1]"
   ]
  },
  {
   "cell_type": "code",
   "execution_count": 35,
   "id": "20222efa",
   "metadata": {},
   "outputs": [
    {
     "data": {
      "text/plain": [
       "(1424, 1)"
      ]
     },
     "execution_count": 35,
     "metadata": {},
     "output_type": "execute_result"
    }
   ],
   "source": [
    "train_data.shape\n"
   ]
  },
  {
   "cell_type": "code",
   "execution_count": 36,
   "id": "331a8c7b",
   "metadata": {},
   "outputs": [
    {
     "data": {
      "text/plain": [
       "(611, 1)"
      ]
     },
     "execution_count": 36,
     "metadata": {},
     "output_type": "execute_result"
    }
   ],
   "source": [
    "test_data.shape"
   ]
  },
  {
   "cell_type": "code",
   "execution_count": 37,
   "id": "7e6afbce",
   "metadata": {},
   "outputs": [
    {
     "data": {
      "text/plain": [
       "2035"
      ]
     },
     "execution_count": 37,
     "metadata": {},
     "output_type": "execute_result"
    }
   ],
   "source": [
    "1424+611"
   ]
  },
  {
   "cell_type": "code",
   "execution_count": 38,
   "id": "1360a67d",
   "metadata": {},
   "outputs": [
    {
     "data": {
      "text/plain": [
       "array([[0.1621732 ],\n",
       "       [0.15951797],\n",
       "       [0.16707516],\n",
       "       [0.15992647],\n",
       "       [0.16053922],\n",
       "       [0.16441993],\n",
       "       [0.16687092],\n",
       "       [0.1693219 ],\n",
       "       [0.16074346],\n",
       "       [0.15972222]])"
      ]
     },
     "execution_count": 38,
     "metadata": {},
     "output_type": "execute_result"
    }
   ],
   "source": [
    "test_data[:10]\n"
   ]
  },
  {
   "cell_type": "code",
   "execution_count": 39,
   "id": "9708e085",
   "metadata": {},
   "outputs": [],
   "source": [
    "def create_dataset(dataset, time_step):\n",
    "    X_data = []\n",
    "    Y_data = []\n",
    "    for i in range(len(dataset)-time_step-1):\n",
    "        X_data.append(dataset[i:(i+time_step), 0])\n",
    "        Y_data.append(dataset[i+time_step, 0])\n",
    "    return np.array(X_data), np.array(Y_data)"
   ]
  },
  {
   "cell_type": "code",
   "execution_count": 40,
   "id": "a1f064b0",
   "metadata": {},
   "outputs": [],
   "source": [
    "time_step = 100\n",
    "X_train, y_train = create_dataset(train_data, time_step)\n",
    "X_test, y_test = create_dataset(test_data, time_step)"
   ]
  },
  {
   "cell_type": "code",
   "execution_count": 41,
   "id": "8fe979a6",
   "metadata": {},
   "outputs": [
    {
     "data": {
      "text/plain": [
       "(1323, 100)"
      ]
     },
     "execution_count": 41,
     "metadata": {},
     "output_type": "execute_result"
    }
   ],
   "source": [
    "X_train.shape\n"
   ]
  },
  {
   "cell_type": "code",
   "execution_count": 42,
   "id": "71809a6b",
   "metadata": {},
   "outputs": [
    {
     "data": {
      "text/plain": [
       "(1323,)"
      ]
     },
     "execution_count": 42,
     "metadata": {},
     "output_type": "execute_result"
    }
   ],
   "source": [
    "y_train.shape\n"
   ]
  },
  {
   "cell_type": "code",
   "execution_count": 43,
   "id": "8a4fe746",
   "metadata": {},
   "outputs": [
    {
     "data": {
      "text/plain": [
       "((1323, 100), (1323,))"
      ]
     },
     "execution_count": 43,
     "metadata": {},
     "output_type": "execute_result"
    }
   ],
   "source": [
    "X_train.shape,y_train.shape\n"
   ]
  },
  {
   "cell_type": "markdown",
   "id": "1fb3a73f",
   "metadata": {},
   "source": [
    "# Reshaping input into 3-Dimensional form required for LSTM."
   ]
  },
  {
   "cell_type": "code",
   "execution_count": 44,
   "id": "72dec6b4",
   "metadata": {},
   "outputs": [],
   "source": [
    "X_train = X_train.reshape(X_train.shape[0], X_train.shape[1], 1)\n",
    "X_test = X_test.reshape(X_test.shape[0], X_test.shape[1], 1)"
   ]
  },
  {
   "cell_type": "markdown",
   "id": "dae8396e",
   "metadata": {},
   "source": [
    "# Step-7: Constructing Stacked LSTM model."
   ]
  },
  {
   "cell_type": "code",
   "execution_count": 45,
   "id": "00f4afa5",
   "metadata": {
    "scrolled": true
   },
   "outputs": [],
   "source": [
    "from tensorflow.keras.models import Sequential\n",
    "from tensorflow.keras.layers import Dense, LSTM\n",
    "\n",
    "# Rest of the code\n",
    "time_step = 100\n",
    "\n",
    "model = Sequential()\n",
    "model.add(LSTM(50, return_sequences=True, input_shape=(time_step, 1)))\n",
    "model.add(LSTM(50, return_sequences=True))\n",
    "model.add(LSTM(50))\n",
    "model.add(Dense(1))\n",
    "model.compile(loss='mean_squared_error', optimizer='adam')\n",
    "\n",
    "\n"
   ]
  },
  {
   "cell_type": "code",
   "execution_count": 46,
   "id": "7bcf7c07",
   "metadata": {},
   "outputs": [
    {
     "name": "stdout",
     "output_type": "stream",
     "text": [
      "Model: \"sequential\"\n",
      "_________________________________________________________________\n",
      " Layer (type)                Output Shape              Param #   \n",
      "=================================================================\n",
      " lstm (LSTM)                 (None, 100, 50)           10400     \n",
      "                                                                 \n",
      " lstm_1 (LSTM)               (None, 100, 50)           20200     \n",
      "                                                                 \n",
      " lstm_2 (LSTM)               (None, 50)                20200     \n",
      "                                                                 \n",
      " dense (Dense)               (None, 1)                 51        \n",
      "                                                                 \n",
      "=================================================================\n",
      "Total params: 50851 (198.64 KB)\n",
      "Trainable params: 50851 (198.64 KB)\n",
      "Non-trainable params: 0 (0.00 Byte)\n",
      "_________________________________________________________________\n"
     ]
    }
   ],
   "source": [
    "model.summary()\n"
   ]
  },
  {
   "cell_type": "code",
   "execution_count": 47,
   "id": "fc34a569",
   "metadata": {},
   "outputs": [
    {
     "name": "stdout",
     "output_type": "stream",
     "text": [
      "Epoch 1/100\n",
      "21/21 [==============================] - 5s 128ms/step - loss: 0.0085 - val_loss: 0.0148\n",
      "Epoch 2/100\n",
      "21/21 [==============================] - 2s 95ms/step - loss: 0.0018 - val_loss: 0.0036\n",
      "Epoch 3/100\n",
      "21/21 [==============================] - 2s 95ms/step - loss: 8.8167e-04 - val_loss: 0.0032\n",
      "Epoch 4/100\n",
      "21/21 [==============================] - 2s 97ms/step - loss: 8.6036e-04 - val_loss: 0.0039\n",
      "Epoch 5/100\n",
      "21/21 [==============================] - 2s 98ms/step - loss: 8.1261e-04 - val_loss: 0.0029\n",
      "Epoch 6/100\n",
      "21/21 [==============================] - 2s 96ms/step - loss: 8.0794e-04 - val_loss: 0.0025\n",
      "Epoch 7/100\n",
      "21/21 [==============================] - 2s 93ms/step - loss: 8.9039e-04 - val_loss: 0.0024\n",
      "Epoch 8/100\n",
      "21/21 [==============================] - 2s 93ms/step - loss: 7.6541e-04 - val_loss: 0.0024\n",
      "Epoch 9/100\n",
      "21/21 [==============================] - 2s 93ms/step - loss: 7.3307e-04 - val_loss: 0.0031\n",
      "Epoch 10/100\n",
      "21/21 [==============================] - 2s 94ms/step - loss: 6.8545e-04 - val_loss: 0.0025\n",
      "Epoch 11/100\n",
      "21/21 [==============================] - 2s 93ms/step - loss: 7.6616e-04 - val_loss: 0.0034\n",
      "Epoch 12/100\n",
      "21/21 [==============================] - 2s 93ms/step - loss: 6.5777e-04 - val_loss: 0.0029\n",
      "Epoch 13/100\n",
      "21/21 [==============================] - 2s 93ms/step - loss: 6.3432e-04 - val_loss: 0.0039\n",
      "Epoch 14/100\n",
      "21/21 [==============================] - 2s 93ms/step - loss: 5.9001e-04 - val_loss: 0.0023\n",
      "Epoch 15/100\n",
      "21/21 [==============================] - 2s 94ms/step - loss: 6.0762e-04 - val_loss: 0.0018\n",
      "Epoch 16/100\n",
      "21/21 [==============================] - 2s 96ms/step - loss: 6.3248e-04 - val_loss: 0.0042\n",
      "Epoch 17/100\n",
      "21/21 [==============================] - 2s 91ms/step - loss: 5.5316e-04 - val_loss: 0.0028\n",
      "Epoch 18/100\n",
      "21/21 [==============================] - 2s 92ms/step - loss: 5.8056e-04 - val_loss: 0.0043\n",
      "Epoch 19/100\n",
      "21/21 [==============================] - 2s 99ms/step - loss: 5.2708e-04 - val_loss: 0.0068\n",
      "Epoch 20/100\n",
      "21/21 [==============================] - 2s 105ms/step - loss: 5.1266e-04 - val_loss: 0.0063\n",
      "Epoch 21/100\n",
      "21/21 [==============================] - 2s 106ms/step - loss: 4.8733e-04 - val_loss: 0.0042\n",
      "Epoch 22/100\n",
      "21/21 [==============================] - 2s 102ms/step - loss: 4.8664e-04 - val_loss: 0.0065\n",
      "Epoch 23/100\n",
      "21/21 [==============================] - 2s 104ms/step - loss: 4.6432e-04 - val_loss: 0.0041\n",
      "Epoch 24/100\n",
      "21/21 [==============================] - 2s 103ms/step - loss: 4.5357e-04 - val_loss: 0.0058\n",
      "Epoch 25/100\n",
      "21/21 [==============================] - 2s 103ms/step - loss: 4.3550e-04 - val_loss: 0.0058\n",
      "Epoch 26/100\n",
      "21/21 [==============================] - 2s 104ms/step - loss: 4.3348e-04 - val_loss: 0.0053\n",
      "Epoch 27/100\n",
      "21/21 [==============================] - 2s 105ms/step - loss: 4.1189e-04 - val_loss: 0.0029\n",
      "Epoch 28/100\n",
      "21/21 [==============================] - 2s 105ms/step - loss: 3.9938e-04 - val_loss: 0.0052\n",
      "Epoch 29/100\n",
      "21/21 [==============================] - 2s 105ms/step - loss: 3.8841e-04 - val_loss: 0.0024\n",
      "Epoch 30/100\n",
      "21/21 [==============================] - 2s 105ms/step - loss: 3.8148e-04 - val_loss: 0.0040\n",
      "Epoch 31/100\n",
      "21/21 [==============================] - 2s 111ms/step - loss: 4.5802e-04 - val_loss: 0.0047\n",
      "Epoch 32/100\n",
      "21/21 [==============================] - 3s 125ms/step - loss: 3.6011e-04 - val_loss: 0.0055\n",
      "Epoch 33/100\n",
      "21/21 [==============================] - 2s 115ms/step - loss: 3.4621e-04 - val_loss: 0.0027\n",
      "Epoch 34/100\n",
      "21/21 [==============================] - 2s 115ms/step - loss: 3.4665e-04 - val_loss: 0.0032\n",
      "Epoch 35/100\n",
      "21/21 [==============================] - 2s 110ms/step - loss: 3.2022e-04 - val_loss: 0.0038\n",
      "Epoch 36/100\n",
      "21/21 [==============================] - 2s 116ms/step - loss: 3.1016e-04 - val_loss: 0.0045\n",
      "Epoch 37/100\n",
      "21/21 [==============================] - 2s 119ms/step - loss: 3.1858e-04 - val_loss: 0.0019\n",
      "Epoch 38/100\n",
      "21/21 [==============================] - 2s 114ms/step - loss: 2.8968e-04 - val_loss: 0.0028\n",
      "Epoch 39/100\n",
      "21/21 [==============================] - 2s 114ms/step - loss: 3.0040e-04 - val_loss: 0.0027\n",
      "Epoch 40/100\n",
      "21/21 [==============================] - 2s 115ms/step - loss: 2.7857e-04 - val_loss: 0.0039\n",
      "Epoch 41/100\n",
      "21/21 [==============================] - 2s 114ms/step - loss: 2.8269e-04 - val_loss: 0.0028\n",
      "Epoch 42/100\n",
      "21/21 [==============================] - 2s 114ms/step - loss: 2.6313e-04 - val_loss: 0.0026\n",
      "Epoch 43/100\n",
      "21/21 [==============================] - 2s 115ms/step - loss: 2.7605e-04 - val_loss: 0.0028\n",
      "Epoch 44/100\n",
      "21/21 [==============================] - 2s 113ms/step - loss: 2.5235e-04 - val_loss: 0.0013\n",
      "Epoch 45/100\n",
      "21/21 [==============================] - 2s 113ms/step - loss: 2.9230e-04 - val_loss: 0.0042\n",
      "Epoch 46/100\n",
      "21/21 [==============================] - 2s 114ms/step - loss: 2.4652e-04 - val_loss: 0.0024\n",
      "Epoch 47/100\n",
      "21/21 [==============================] - 2s 113ms/step - loss: 2.3534e-04 - val_loss: 0.0025\n",
      "Epoch 48/100\n",
      "21/21 [==============================] - 2s 112ms/step - loss: 2.3997e-04 - val_loss: 0.0016\n",
      "Epoch 49/100\n",
      "21/21 [==============================] - 2s 113ms/step - loss: 2.5672e-04 - val_loss: 0.0029\n",
      "Epoch 50/100\n",
      "21/21 [==============================] - 2s 112ms/step - loss: 2.5398e-04 - val_loss: 0.0021\n",
      "Epoch 51/100\n",
      "21/21 [==============================] - 2s 112ms/step - loss: 2.1508e-04 - val_loss: 0.0024\n",
      "Epoch 52/100\n",
      "21/21 [==============================] - 2s 115ms/step - loss: 2.1161e-04 - val_loss: 0.0020\n",
      "Epoch 53/100\n",
      "21/21 [==============================] - 2s 111ms/step - loss: 2.2967e-04 - val_loss: 9.4101e-04\n",
      "Epoch 54/100\n",
      "21/21 [==============================] - 2s 112ms/step - loss: 2.1612e-04 - val_loss: 0.0015\n",
      "Epoch 55/100\n",
      "21/21 [==============================] - 2s 112ms/step - loss: 2.0605e-04 - val_loss: 7.1599e-04\n",
      "Epoch 56/100\n",
      "21/21 [==============================] - 2s 112ms/step - loss: 2.0957e-04 - val_loss: 0.0028\n",
      "Epoch 57/100\n",
      "21/21 [==============================] - 2s 113ms/step - loss: 2.0966e-04 - val_loss: 9.5751e-04\n",
      "Epoch 58/100\n",
      "21/21 [==============================] - 2s 113ms/step - loss: 1.9779e-04 - val_loss: 0.0013\n",
      "Epoch 59/100\n",
      "21/21 [==============================] - 2s 113ms/step - loss: 1.8273e-04 - val_loss: 0.0017\n",
      "Epoch 60/100\n",
      "21/21 [==============================] - 2s 115ms/step - loss: 1.8785e-04 - val_loss: 0.0017\n",
      "Epoch 61/100\n",
      "21/21 [==============================] - 2s 116ms/step - loss: 1.9958e-04 - val_loss: 0.0024\n",
      "Epoch 62/100\n",
      "21/21 [==============================] - 2s 114ms/step - loss: 1.9073e-04 - val_loss: 0.0016\n",
      "Epoch 63/100\n",
      "21/21 [==============================] - 2s 112ms/step - loss: 1.8844e-04 - val_loss: 0.0015\n",
      "Epoch 64/100\n",
      "21/21 [==============================] - 2s 113ms/step - loss: 1.7853e-04 - val_loss: 0.0011\n",
      "Epoch 65/100\n",
      "21/21 [==============================] - 2s 109ms/step - loss: 1.9585e-04 - val_loss: 0.0016\n",
      "Epoch 66/100\n",
      "21/21 [==============================] - 2s 109ms/step - loss: 1.6992e-04 - val_loss: 0.0020\n",
      "Epoch 67/100\n",
      "21/21 [==============================] - 2s 111ms/step - loss: 1.7017e-04 - val_loss: 0.0013\n",
      "Epoch 68/100\n",
      "21/21 [==============================] - 2s 112ms/step - loss: 1.7567e-04 - val_loss: 0.0018\n",
      "Epoch 69/100\n",
      "21/21 [==============================] - 2s 118ms/step - loss: 1.6073e-04 - val_loss: 0.0018\n",
      "Epoch 70/100\n",
      "21/21 [==============================] - 2s 112ms/step - loss: 1.5758e-04 - val_loss: 0.0015\n",
      "Epoch 71/100\n",
      "21/21 [==============================] - 2s 113ms/step - loss: 1.6302e-04 - val_loss: 0.0011\n",
      "Epoch 72/100\n",
      "21/21 [==============================] - 2s 114ms/step - loss: 1.5839e-04 - val_loss: 0.0014\n",
      "Epoch 73/100\n",
      "21/21 [==============================] - 2s 111ms/step - loss: 1.5913e-04 - val_loss: 0.0013\n",
      "Epoch 74/100\n",
      "21/21 [==============================] - 2s 114ms/step - loss: 1.5610e-04 - val_loss: 9.7293e-04\n",
      "Epoch 75/100\n",
      "21/21 [==============================] - 2s 113ms/step - loss: 1.4747e-04 - val_loss: 7.4455e-04\n",
      "Epoch 76/100\n",
      "21/21 [==============================] - 2s 113ms/step - loss: 1.4750e-04 - val_loss: 4.4590e-04\n",
      "Epoch 77/100\n",
      "21/21 [==============================] - 2s 113ms/step - loss: 2.1255e-04 - val_loss: 6.1651e-04\n",
      "Epoch 78/100\n",
      "21/21 [==============================] - 2s 109ms/step - loss: 1.6841e-04 - val_loss: 0.0013\n",
      "Epoch 79/100\n",
      "21/21 [==============================] - 2s 110ms/step - loss: 1.4583e-04 - val_loss: 0.0020\n",
      "Epoch 80/100\n",
      "21/21 [==============================] - 2s 111ms/step - loss: 1.5167e-04 - val_loss: 0.0012\n",
      "Epoch 81/100\n",
      "21/21 [==============================] - 2s 113ms/step - loss: 1.4112e-04 - val_loss: 8.0006e-04\n",
      "Epoch 82/100\n",
      "21/21 [==============================] - 2s 113ms/step - loss: 1.5082e-04 - val_loss: 9.6893e-04\n",
      "Epoch 83/100\n",
      "21/21 [==============================] - 2s 117ms/step - loss: 1.4385e-04 - val_loss: 9.5107e-04\n",
      "Epoch 84/100\n",
      "21/21 [==============================] - 3s 121ms/step - loss: 1.4245e-04 - val_loss: 0.0017\n",
      "Epoch 85/100\n",
      "21/21 [==============================] - 2s 120ms/step - loss: 1.8248e-04 - val_loss: 9.4590e-04\n",
      "Epoch 86/100\n",
      "21/21 [==============================] - 2s 114ms/step - loss: 1.3758e-04 - val_loss: 0.0011\n",
      "Epoch 87/100\n",
      "21/21 [==============================] - 2s 114ms/step - loss: 1.4259e-04 - val_loss: 6.8281e-04\n",
      "Epoch 88/100\n",
      "21/21 [==============================] - 2s 114ms/step - loss: 1.6535e-04 - val_loss: 5.3639e-04\n",
      "Epoch 89/100\n",
      "21/21 [==============================] - 2s 112ms/step - loss: 1.4701e-04 - val_loss: 8.9270e-04\n",
      "Epoch 90/100\n",
      "21/21 [==============================] - 2s 113ms/step - loss: 1.3482e-04 - val_loss: 0.0017\n",
      "Epoch 91/100\n",
      "21/21 [==============================] - 2s 112ms/step - loss: 1.6670e-04 - val_loss: 0.0010\n",
      "Epoch 92/100\n",
      "21/21 [==============================] - 2s 112ms/step - loss: 1.5666e-04 - val_loss: 0.0012\n",
      "Epoch 93/100\n",
      "21/21 [==============================] - 2s 113ms/step - loss: 1.3511e-04 - val_loss: 8.5702e-04\n",
      "Epoch 94/100\n",
      "21/21 [==============================] - 2s 113ms/step - loss: 1.3283e-04 - val_loss: 0.0017\n",
      "Epoch 95/100\n",
      "21/21 [==============================] - 2s 110ms/step - loss: 1.4537e-04 - val_loss: 9.4878e-04\n",
      "Epoch 96/100\n",
      "21/21 [==============================] - 2s 113ms/step - loss: 1.4998e-04 - val_loss: 0.0015\n",
      "Epoch 97/100\n",
      "21/21 [==============================] - 2s 112ms/step - loss: 1.3234e-04 - val_loss: 7.8873e-04\n",
      "Epoch 98/100\n",
      "21/21 [==============================] - 2s 113ms/step - loss: 1.3164e-04 - val_loss: 0.0014\n",
      "Epoch 99/100\n",
      "21/21 [==============================] - 2s 111ms/step - loss: 1.7175e-04 - val_loss: 0.0016\n",
      "Epoch 100/100\n",
      "21/21 [==============================] - 2s 116ms/step - loss: 1.6052e-04 - val_loss: 0.0012\n"
     ]
    }
   ],
   "source": [
    "model.fit(X_train, y_train, validation_data=(X_test, y_test), epochs=100, batch_size=64, verbose=1);\n"
   ]
  },
  {
   "cell_type": "markdown",
   "id": "f52855d3",
   "metadata": {},
   "source": [
    "# Step-8: Evaluation of constructed LSTM Model."
   ]
  },
  {
   "cell_type": "markdown",
   "id": "80c8259c",
   "metadata": {},
   "source": [
    "## Visualizing Loss Function..."
   ]
  },
  {
   "cell_type": "code",
   "execution_count": 49,
   "id": "fe0228cc",
   "metadata": {},
   "outputs": [
    {
     "data": {
      "image/png": "[encoded data removed]",
      "text/plain": [
       "<Figure size 640x480 with 1 Axes>"
      ]
     },
     "metadata": {},
     "output_type": "display_data"
    }
   ],
   "source": [
    "# Ploting Loss of our trained model\n",
    "\n",
    "loss = model.history.history['loss']\n",
    "plt.plot(loss)\n",
    "plt.xlabel(\"No. of Iterations...\")\n",
    "plt.ylabel(\"Loss Value...\")\n",
    "plt.title(\"Variations of Loss value with No. of Iterations\", color=\"orange\", fontsize=16, fontweight=\"bold\");"
   ]
  },
  {
   "cell_type": "markdown",
   "id": "7188192b",
   "metadata": {},
   "source": [
    "## Evaluation of our constructed model on train and test data..."
   ]
  },
  {
   "cell_type": "code",
   "execution_count": 50,
   "id": "e00b1905",
   "metadata": {},
   "outputs": [
    {
     "name": "stdout",
     "output_type": "stream",
     "text": [
      "42/42 [==============================] - 1s 18ms/step\n",
      "16/16 [==============================] - 0s 20ms/step\n"
     ]
    }
   ],
   "source": [
    "train_preds = minmax.inverse_transform(model.predict(X_train))\n",
    "test_preds = minmax.inverse_transform(model.predict(X_test))"
   ]
  },
  {
   "cell_type": "code",
   "execution_count": 51,
   "id": "e8dd3214",
   "metadata": {},
   "outputs": [
    {
     "data": {
      "text/plain": [
       "133.40390907758814"
      ]
     },
     "execution_count": 51,
     "metadata": {},
     "output_type": "execute_result"
    }
   ],
   "source": [
    "import math\n",
    "from sklearn.metrics import mean_squared_error\n",
    "\n",
    "math.sqrt(mean_squared_error(y_train,train_preds))"
   ]
  },
  {
   "cell_type": "code",
   "execution_count": 52,
   "id": "bad04828",
   "metadata": {},
   "outputs": [
    {
     "data": {
      "text/plain": [
       "207.0798799729057"
      ]
     },
     "execution_count": 52,
     "metadata": {},
     "output_type": "execute_result"
    }
   ],
   "source": [
    "math.sqrt(mean_squared_error(y_test, test_preds))\n"
   ]
  },
  {
   "cell_type": "code",
   "execution_count": 53,
   "id": "99ab8c7c",
   "metadata": {},
   "outputs": [
    {
     "data": {
      "text/plain": [
       "array([[0.16584967],\n",
       "       [0.16319444],\n",
       "       [0.1621732 ],\n",
       "       ...,\n",
       "       [0.62622549],\n",
       "       [0.62214052],\n",
       "       [0.62418301]])"
      ]
     },
     "execution_count": 53,
     "metadata": {},
     "output_type": "execute_result"
    }
   ],
   "source": [
    "close_df"
   ]
  },
  {
   "cell_type": "code",
   "execution_count": 54,
   "id": "5a9ac712",
   "metadata": {},
   "outputs": [
    {
     "data": {
      "text/plain": [
       "(1323, 1)"
      ]
     },
     "execution_count": 54,
     "metadata": {},
     "output_type": "execute_result"
    }
   ],
   "source": [
    "train_preds.shape"
   ]
  },
  {
   "cell_type": "markdown",
   "id": "ae184513",
   "metadata": {},
   "source": [
    "# Plotting"
   ]
  },
  {
   "cell_type": "code",
   "execution_count": 55,
   "id": "2db92ccd",
   "metadata": {},
   "outputs": [
    {
     "data": {
      "image/png": "[encoded data removed]",
      "text/plain": [
       "<Figure size 640x480 with 1 Axes>"
      ]
     },
     "metadata": {},
     "output_type": "display_data"
    }
   ],
   "source": [
    "# shift train predictions for plotting\n",
    "\n",
    "look_back=100  # to align predicted and actual on same curve...\n",
    "\n",
    "trainPredictPlot = np.empty_like(close_df)\n",
    "trainPredictPlot[:, :] = np.nan\n",
    "trainPredictPlot[look_back:len(train_preds)+look_back, :] = train_preds\n",
    "\n",
    "# shift test predictions for plotting\n",
    "testPredictPlot = np.empty_like(close_df)\n",
    "testPredictPlot[:, :] = np.nan\n",
    "testPredictPlot[len(train_preds)+(look_back*2)+1:len(close_df)-1, :] = test_preds\n",
    "\n",
    "# plot baseline i.e. Actual value of Closing price..\n",
    "\n",
    "plt.plot(minmax.inverse_transform(close_df))\n",
    "plt.title(\"Variation of Actual dataset\", color=\"orange\", fontsize=16, fontweight=\"bold\")\n",
    "plt.xlabel(\"Data Index Number\")\n",
    "plt.ylabel(\"Clossing price\");"
   ]
  },
  {
   "cell_type": "code",
   "execution_count": 56,
   "id": "78535082",
   "metadata": {},
   "outputs": [
    {
     "data": {
      "image/png": "[encoded data removed]",
      "text/plain": [
       "<Figure size 640x480 with 1 Axes>"
      ]
     },
     "metadata": {},
     "output_type": "display_data"
    }
   ],
   "source": [
    "# Plot of Predictions on Closing Price made by our model on training dataset vs Actual Closing Price\n",
    "\n",
    "plt.plot(minmax.inverse_transform(close_df))\n",
    "plt.plot(trainPredictPlot)\n",
    "plt.title(\"Variation of Predicted trained dataset(orange) and actual dataset(lightblue)\", color=\"orange\", fontsize=16, fontweight=\"bold\")\n",
    "plt.xlabel(\"Data Index Number\")\n",
    "plt.ylabel(\"Clossing price\");"
   ]
  },
  {
   "cell_type": "code",
   "execution_count": 57,
   "id": "60ca4327",
   "metadata": {},
   "outputs": [
    {
     "data": {
      "image/png": "[encoded data removed]",
      "text/plain": [
       "<Figure size 640x480 with 1 Axes>"
      ]
     },
     "metadata": {},
     "output_type": "display_data"
    }
   ],
   "source": [
    "# Plot of Predictions on Closing Price made by our model on training dataset vs Actual Closing Price \n",
    "# vs Predictions on CLosing Price made by our model on test dataset\n",
    "\n",
    "plt.plot(minmax.inverse_transform(close_df))\n",
    "plt.plot(trainPredictPlot)\n",
    "plt.title(\"Variation of Predicted tested dataset(green) and actual dataset(lightblue)\", color=\"orange\", fontsize=16, fontweight=\"bold\")\n",
    "plt.xlabel(\"Data Index Number\")\n",
    "plt.ylabel(\"Clossing price\");\n",
    "plt.plot(testPredictPlot)\n",
    "plt.show()\n"
   ]
  },
  {
   "cell_type": "markdown",
   "id": "d8db632e",
   "metadata": {},
   "source": [
    "# Since, our model trained with first 100 data inputs and start predicting from 101 onwards..\n",
    "\n",
    "## so orange starts from 101th data index number. Similar logic for test data...\n",
    "\n",
    "## LightBlue == Actual Closing Price\n",
    "\n",
    "## Orange == Predictions on Closing Price made by our model on training dataset\n",
    "\n",
    "## Green == Predictions on CLosing Price made by our model on test dataset\n",
    "\n",
    "# Lets visualize in a single frame.... "
   ]
  },
  {
   "cell_type": "code",
   "execution_count": 58,
   "id": "38657cd0",
   "metadata": {},
   "outputs": [
    {
     "data": {
      "image/png": "[encoded data removed]",
      "text/plain": [
       "<Figure size 1500x500 with 2 Axes>"
      ]
     },
     "metadata": {},
     "output_type": "display_data"
    }
   ],
   "source": [
    "fig, (ax0, ax1) = plt.subplots(nrows=1,\n",
    "                               ncols=2,\n",
    "                               figsize=(15,5))\n",
    "ax0.plot(minmax.inverse_transform(close_df))\n",
    "ax0.set(xlabel=\"Data index number\",\n",
    "        ylabel=\"Clossing price\",\n",
    "        title=\"Actual dataset\");\n",
    "\n",
    "ax0.set(xlabel=\"Data index number\",\n",
    "        ylabel=\"Clossing price\",\n",
    "        title=\"Actual dataset\");\n",
    "\n",
    "ax1.plot(minmax.inverse_transform(close_df))\n",
    "ax1.plot(trainPredictPlot)\n",
    "ax1.plot(testPredictPlot)\n",
    "\n",
    "\n",
    "ax1.set(xlabel=\"Data index number\",\n",
    "        ylabel=\"Clossing price\",\n",
    "        title=\"Actual dataset vs Prediction on train vs Prediction on test\");\n",
    "\n",
    "fig.suptitle(t=\"Plot of Baseline(Actual) and Predictions(Train and Test Predicted)\",\n",
    "             color=\"orange\",\n",
    "             fontsize=16,\n",
    "             fontweight=\"bold\");"
   ]
  },
  {
   "cell_type": "markdown",
   "id": "7c1259c9",
   "metadata": {},
   "source": [
    "# Step-9: Forecasting for future 30 days.\n"
   ]
  },
  {
   "cell_type": "code",
   "execution_count": 59,
   "id": "d534e1fc",
   "metadata": {},
   "outputs": [
    {
     "data": {
      "text/plain": [
       "611"
      ]
     },
     "execution_count": 59,
     "metadata": {},
     "output_type": "execute_result"
    }
   ],
   "source": [
    "# Let's check length of test_data...\n",
    "\n",
    "len(test_data)"
   ]
  },
  {
   "cell_type": "code",
   "execution_count": 60,
   "id": "62210bc3",
   "metadata": {},
   "outputs": [
    {
     "data": {
      "text/plain": [
       "(611, 1)"
      ]
     },
     "execution_count": 60,
     "metadata": {},
     "output_type": "execute_result"
    }
   ],
   "source": [
    "test_data.shape"
   ]
  },
  {
   "cell_type": "markdown",
   "id": "c3dbf15f",
   "metadata": {},
   "source": [
    "# Considering last 100 days data for the future prediction..."
   ]
  },
  {
   "cell_type": "code",
   "execution_count": 61,
   "id": "5034ef68",
   "metadata": {},
   "outputs": [
    {
     "data": {
      "text/plain": [
       "511"
      ]
     },
     "execution_count": 61,
     "metadata": {},
     "output_type": "execute_result"
    }
   ],
   "source": [
    "611-100\n"
   ]
  },
  {
   "cell_type": "code",
   "execution_count": 62,
   "id": "9539c6da",
   "metadata": {},
   "outputs": [
    {
     "data": {
      "text/plain": [
       "array([[0.85273693],\n",
       "       [0.86213235],\n",
       "       [0.83455882],\n",
       "       [0.84375   ],\n",
       "       [0.71466503]])"
      ]
     },
     "execution_count": 62,
     "metadata": {},
     "output_type": "execute_result"
    }
   ],
   "source": [
    "preds_input = test_data[511:]\n",
    "preds_input[:5]"
   ]
  },
  {
   "cell_type": "code",
   "execution_count": 63,
   "id": "652d8be5",
   "metadata": {},
   "outputs": [
    {
     "data": {
      "text/plain": [
       "(100, 1)"
      ]
     },
     "execution_count": 63,
     "metadata": {},
     "output_type": "execute_result"
    }
   ],
   "source": [
    "preds_input.shape\n"
   ]
  },
  {
   "cell_type": "code",
   "execution_count": 64,
   "id": "f0d4a0c5",
   "metadata": {},
   "outputs": [
    {
     "data": {
      "text/plain": [
       "(1, 100)"
      ]
     },
     "execution_count": 64,
     "metadata": {},
     "output_type": "execute_result"
    }
   ],
   "source": [
    "# Reshaping into row matrix\n",
    "\n",
    "preds_input = preds_input.reshape(1, -1)\n",
    "preds_input.shape"
   ]
  },
  {
   "cell_type": "code",
   "execution_count": 65,
   "id": "bcd9171b",
   "metadata": {},
   "outputs": [
    {
     "data": {
      "text/plain": [
       "1"
      ]
     },
     "execution_count": 65,
     "metadata": {},
     "output_type": "execute_result"
    }
   ],
   "source": [
    "temp_input = list(preds_input)\n",
    "len(temp_input)"
   ]
  },
  {
   "cell_type": "code",
   "execution_count": 66,
   "id": "11019e12",
   "metadata": {},
   "outputs": [],
   "source": [
    "temp_input = temp_input[0].tolist()\n"
   ]
  },
  {
   "cell_type": "code",
   "execution_count": 67,
   "id": "9224ce02",
   "metadata": {},
   "outputs": [
    {
     "data": {
      "text/plain": [
       "100"
      ]
     },
     "execution_count": 67,
     "metadata": {},
     "output_type": "execute_result"
    }
   ],
   "source": [
    "len(temp_input)"
   ]
  },
  {
   "cell_type": "code",
   "execution_count": 68,
   "id": "762846c5",
   "metadata": {},
   "outputs": [
    {
     "data": {
      "text/plain": [
       "list"
      ]
     },
     "execution_count": 68,
     "metadata": {},
     "output_type": "execute_result"
    }
   ],
   "source": [
    "type(temp_input)"
   ]
  },
  {
   "cell_type": "code",
   "execution_count": 69,
   "id": "87c3df7e",
   "metadata": {},
   "outputs": [
    {
     "data": {
      "text/plain": [
       "100"
      ]
     },
     "execution_count": 69,
     "metadata": {},
     "output_type": "execute_result"
    }
   ],
   "source": [
    "preds_input.shape[1]\n"
   ]
  },
  {
   "cell_type": "markdown",
   "id": "9de7bc98",
   "metadata": {},
   "source": [
    "# Demonstrating prediction for next 3 days just for debugging and understanding how it is working\n",
    "\n",
    "### This code was initially made for debugging and understanding... You can use this code just to understand how length and shape varying and so on..\n",
    "\n",
    "### Thirty_days_output=[]\n",
    "\n",
    "### i=0\n",
    "\n",
    "### while(i<3):\n",
    "\n",
    "### if(len(temp_input)>100):\n",
    "###    print(f\"3rd={len(temp_input)}\")\n",
    "###    temp_input = temp_input[1:]\n",
    "###    print(f\"4th={len(temp_input)}\")\n",
    "###    preds_input=np.array(temp_input) # getting latest 100 data\n",
    "###    print(f\"2ndshape={preds_input.shape}\")\n",
    "###    print(f\"5th={len(temp_input)}\")\n",
    "\n",
    "###    preds_input=preds_input.reshape(1,-1)\n",
    "###    preds_input = preds_input.reshape((1, time_step, 1))\n",
    "###    day_output = model.predict(preds_input, verbose=0)\n",
    "###    temp_input.extend(day_output[0].tolist())\n",
    "###    print(f\"6th={len(temp_input)}\")\n",
    "\n",
    "###    Thirty_days_output.extend(day_output.tolist())\n",
    "### else:\n",
    "###       print(f\"1st={len(temp_input)}\")\n",
    "###       print(f\"1stshape={preds_input.shape}\")\n",
    "###       preds_input = preds_input.reshape((1, time_step,1))\n",
    "###       day_output = model.predict(preds_input, verbose=0)\n",
    "###       temp_input.extend(day_output[0].tolist())\n",
    "###       print(f\"2nd={len(temp_input)}\")\n",
    "\n",
    "###       Thirty_days_output.extend(day_output.tolist())\n",
    "###       print(f\"Day-{i+1} input:\\n\\n{preds_input}\\n\\n\")\n",
    "###       print(f\"Day-{i+1} output:\\n\\n{day_output}\\n\\n\")\n",
    "###       i=i+1\n",
    "\n",
    "##       After simplifying above code, we can replace that by this one.."
   ]
  },
  {
   "cell_type": "code",
   "execution_count": 70,
   "id": "3ae03bda",
   "metadata": {},
   "outputs": [],
   "source": [
    "#demonstrating prediction for next 30 days\n",
    "\n",
    "Thirty_days_output=[]\n",
    "i=0\n",
    "\n",
    "while(i<30):\n",
    "    if(len(temp_input)>100):\n",
    "        temp_input = temp_input[1:]\n",
    "        preds_input=np.array(temp_input) # getting latest 100 data\n",
    "        preds_input=preds_input.reshape(1,-1)\n",
    "    \n",
    "\n",
    "\n",
    "    preds_input = preds_input.reshape((1, time_step,1))\n",
    "    day_output = model.predict(preds_input, verbose=0)\n",
    "    temp_input.extend(day_output[0].tolist())\n",
    "    Thirty_days_output.extend(day_output.tolist())\n",
    "\n",
    "    #print(f\"Day-{i+1} input:\\n\\n{preds_input}\\n\\n\")\n",
    "    #print(f\"Day-{i+1} output:\\n\\n{day_output}\\n\\n\")\n",
    "    i=i+1"
   ]
  },
  {
   "cell_type": "code",
   "execution_count": 71,
   "id": "764f431c",
   "metadata": {},
   "outputs": [
    {
     "name": "stdout",
     "output_type": "stream",
     "text": [
      "[[0.5995215773582458], [0.566132664680481], [0.5298932790756226], [0.49863773584365845], [0.4730411469936371], [0.45196089148521423], [0.43509605526924133], [0.42236584424972534], [0.41339045763015747], [0.4075009822845459], [0.40392619371414185], [0.40192466974258423], [0.4008426368236542], [0.40013957023620605], [0.39939799904823303], [0.39832615852355957], [0.39675140380859375], [0.39460718631744385], [0.3919128179550171], [0.3887515962123871], [0.3852469325065613], [0.38153955340385437], [0.3777678608894348], [0.37405356764793396], [0.37049150466918945], [0.3671462833881378], [0.36405184864997864], [0.361214280128479], [0.35861915349960327], [0.356236070394516]]\n"
     ]
    }
   ],
   "source": [
    "print(Thirty_days_output)\n"
   ]
  },
  {
   "cell_type": "markdown",
   "id": "a01c706b",
   "metadata": {},
   "source": [
    "# Ploting last 130 days closing price graph"
   ]
  },
  {
   "cell_type": "code",
   "execution_count": 72,
   "id": "7af9354d",
   "metadata": {},
   "outputs": [],
   "source": [
    "latest_100_days = np.arange(1,101)\n",
    "predicted_30_days = np.arange(101,131)"
   ]
  },
  {
   "cell_type": "code",
   "execution_count": 73,
   "id": "a4871d01",
   "metadata": {},
   "outputs": [
    {
     "data": {
      "text/plain": [
       "2035"
      ]
     },
     "execution_count": 73,
     "metadata": {},
     "output_type": "execute_result"
    }
   ],
   "source": [
    "len(close_df)\n"
   ]
  },
  {
   "cell_type": "code",
   "execution_count": 74,
   "id": "62a815cd",
   "metadata": {},
   "outputs": [
    {
     "data": {
      "image/png": "[encoded data removed]",
      "text/plain": [
       "<Figure size 640x480 with 1 Axes>"
      ]
     },
     "metadata": {},
     "output_type": "display_data"
    }
   ],
   "source": [
    "Latest_100_days_output = close_df[1935:]\n",
    "plt.plot(latest_100_days, minmax.inverse_transform(Latest_100_days_output))\n",
    "plt.plot(predicted_30_days, minmax.inverse_transform(Thirty_days_output));"
   ]
  },
  {
   "cell_type": "markdown",
   "id": "46055da9",
   "metadata": {},
   "source": [
    "# Graph is discontinuous but we can make graph continuous by appending both Latest_100_days_output and Thirty_days_output data in a list.\n",
    "\n",
    "## For that we need to convert Latest_100_days_output into list and append to each other"
   ]
  },
  {
   "cell_type": "code",
   "execution_count": 75,
   "id": "97c3ec1a",
   "metadata": {},
   "outputs": [
    {
     "data": {
      "text/plain": [
       "(numpy.ndarray, list)"
      ]
     },
     "execution_count": 75,
     "metadata": {},
     "output_type": "execute_result"
    }
   ],
   "source": [
    "type(Latest_100_days_output), type(Thirty_days_output)\n"
   ]
  },
  {
   "cell_type": "code",
   "execution_count": 76,
   "id": "04a5b742",
   "metadata": {},
   "outputs": [
    {
     "name": "stdout",
     "output_type": "stream",
     "text": [
      "130\n"
     ]
    }
   ],
   "source": [
    "Latest_100_days_output_list = Latest_100_days_output.tolist()\n",
    "Latest_100_days_output_list.extend(Thirty_days_output)\n",
    "print(len(Latest_100_days_output_list))"
   ]
  },
  {
   "cell_type": "code",
   "execution_count": 77,
   "id": "81e57161",
   "metadata": {},
   "outputs": [
    {
     "data": {
      "image/png": "[encoded data removed]",
      "text/plain": [
       "<Figure size 640x480 with 1 Axes>"
      ]
     },
     "metadata": {},
     "output_type": "display_data"
    }
   ],
   "source": [
    "plt.plot(minmax.inverse_transform(Latest_100_days_output_list));\n"
   ]
  },
  {
   "cell_type": "markdown",
   "id": "556d0aae",
   "metadata": {},
   "source": [
    "# Let's Visualize in single frame...\n"
   ]
  },
  {
   "cell_type": "code",
   "execution_count": 78,
   "id": "626e27e0",
   "metadata": {},
   "outputs": [
    {
     "data": {
      "image/png": "[encoded data removed]",
      "text/plain": [
       "<Figure size 1500x500 with 2 Axes>"
      ]
     },
     "metadata": {},
     "output_type": "display_data"
    }
   ],
   "source": [
    "fig, (ax0, ax1) = plt.subplots(nrows=1,\n",
    "                               ncols=2,\n",
    "                               figsize=(15,5))\n",
    "\n",
    "ax0.plot(latest_100_days, minmax.inverse_transform(Latest_100_days_output))\n",
    "ax0.plot(predicted_30_days, minmax.inverse_transform(Thirty_days_output));\n",
    "\n",
    "ax0.set(xlabel=\"Data index number\",\n",
    "        ylabel=\"Clossing price\",\n",
    "        title=\"Dicontinuous Graph\");\n",
    "\n",
    "\n",
    "\n",
    "ax1.plot(minmax.inverse_transform(Latest_100_days_output_list));\n",
    "\n",
    "\n",
    "ax1.set(xlabel=\"Data index number\",\n",
    "        ylabel=\"Clossing price\",\n",
    "        title=\"Continuous Grpah\");\n",
    "\n",
    "fig.suptitle(t=\"Graph of last 130 days\",\n",
    "             color=\"orange\",\n",
    "             fontsize=16,\n",
    "             fontweight=\"bold\");"
   ]
  },
  {
   "cell_type": "markdown",
   "id": "308004b1",
   "metadata": {},
   "source": [
    "# Finally, I have completed my Task 2 of Beginner Level.\n",
    "\n",
    "# Task 2 : Stock Market Prediction And  Forecasting Using Stacked LSTM  "
   ]
  }
 ],
 "metadata": {
  "kernelspec": {
   "display_name": "Python 3 (ipykernel)",
   "language": "python",
   "name": "python3"
  },
  "language_info": {
   "codemirror_mode": {
    "name": "ipython",
    "version": 3
   },
   "file_extension": ".py",
   "mimetype": "text/x-python",
   "name": "python",
   "nbconvert_exporter": "python",
   "pygments_lexer": "ipython3",
   "version": "3.9.13"
  }
 },
 "nbformat": 4,
 "nbformat_minor": 5
}
